{
 "cells": [
  {
   "cell_type": "markdown",
   "metadata": {},
   "source": [
    "# Foundations of Algorithms: Project Kickstart \n",
    "by Samra Kasim"
   ]
  },
  {
   "cell_type": "markdown",
   "metadata": {},
   "source": [
    "## Title"
   ]
  },
  {
   "cell_type": "markdown",
   "metadata": {},
   "source": [
    "Evaluation of the Linear Regression Algorithm"
   ]
  },
  {
   "cell_type": "markdown",
   "metadata": {},
   "source": [
    "## Algorithm"
   ]
  },
  {
   "cell_type": "markdown",
   "metadata": {},
   "source": [
    "This project addresses two problems: 1) Use an algorithm to predict the relationship between the dependent variable and the independent variable and 2) Use datasets of various sizes to determine the runtime of the algorithm. This project will evaluate the Linear Regression algorithm, which is used to demonstrate a relationship between two variables using a linear equation (i.e., a straight line). [1] One variable is known as the dependent variable and the other as the independent variable. The algorithm utilizes the least squares method to create the line of best fit. The least square methods minimizes the sum of square errors. [2] The implementation will also include the use of Root Mean Squared ($R^2$) calculation to determine the accuracy of the model. "
   ]
  },
  {
   "cell_type": "markdown",
   "metadata": {},
   "source": [
    "\n",
    "\n",
    "## Dataset Selection and Empirical Method"
   ]
  },
  {
   "cell_type": "markdown",
   "metadata": {},
   "source": [
    "With a linear regression, it is essential to select the right dataset for analysis. Datasets that are under consideration are:\n",
    "* Johns Hopkins' University's (JHU) COVID-19 daily timeseries data [3]\n",
    "* US Census Bureau data on mean education attainment in every state [4]  \n",
    "\n",
    "Initially, an assessment utilizing a scatter plot is necessary to assess that at least trivially a relationship exists between the two datasets. If no such relationship exists, then the algorithmic analysis using a linear regression algorithm will not provide useful results. The daily reporting of the JHU's COVID-19 dataset is particularly useful for algorithmic analysis because datasets of varying sizes can be selected. It may be necessary for the purposes of empirical analysis to generate additional data, mix and match the data, and add noise to the data. Since both of the aforementioned datasets are in raw format, they will require data munging in pandas and with numpy to be usable for algorithm analysis. Since these datasets are untested, backup datasets with known relationships between dependent and independent variables (e.g., house prices, car insurance) are also available for use.\n",
    "\n",
    "For empirical analysis, the algorithm will be run on datasets of $n=100$, $n=1,000$, $n=10,000$, , $n=100,000$, and $n=1,000,000$. The `time()` function will be used to determine empirical time complexity and the results for each of the $n$ sizes will be graphed on a plot. Each run will consist of running the algorithm through the set multiple times and taking an average of the runs to minimize hardware noise on a single run. Additionally, an empirical analysis would be done utilizing a plot to demonstrate that the line of best fit is created and the values are clustered around this line in an expected way. Finally, the analysis will include a theoretical analysis of the run time using a recurrence relation and either the master theorem or substitution method for finding the run time.  "
   ]
  },
  {
   "cell_type": "markdown",
   "metadata": {},
   "source": [
    "## Sources:"
   ]
  },
  {
   "cell_type": "markdown",
   "metadata": {},
   "source": [
    "[1] Linear Regression, www.stat.yale.edu/Courses/1997-98/101/linreg.htm.  \n",
    "[2] Kenton, Will. “How the Least Squares Method Works.” Investopedia, Investopedia, 16 Sept. 2020, www.investopedia.com/terms/l/least-squares-method.asp#:~:text=The least squares method is a statistical procedure to find,the behavior of dependent variables.  \n",
    "[3] CSSEGISandData. “CSSEGISandData/COVID-19.” GitHub, github.com/CSSEGISandData/COVID-19.  \n",
    "[4] Data.census.gov, data.census.gov/cedsci/table?  q=education&g=0100000US.04000.001&tid=ACSST1Y2018.S1501&tp=true&hidePreview=true.  \n"
   ]
  }
 ],
 "metadata": {
  "kernelspec": {
   "display_name": "Python 3",
   "language": "python",
   "name": "python3"
  },
  "language_info": {
   "codemirror_mode": {
    "name": "ipython",
    "version": 3
   },
   "file_extension": ".py",
   "mimetype": "text/x-python",
   "name": "python",
   "nbconvert_exporter": "python",
   "pygments_lexer": "ipython3",
   "version": "3.8.3"
  }
 },
 "nbformat": 4,
 "nbformat_minor": 4
}
