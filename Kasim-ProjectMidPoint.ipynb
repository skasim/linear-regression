{
 "cells": [
  {
   "cell_type": "markdown",
   "metadata": {},
   "source": [
    "EN.605.621.8VL.FA20 : Project midpoint will be due in module 7 -->\n",
    "\n",
    "Introduction to the algorithm of your choice. \n",
    "\n",
    "1.1 Theoretical details about the algorithm and theoretical complexity \n",
    "\n",
    "1.2 Details about the algorithm of choice (Why did we study this algorithm? What pieces does it have? Data structures, algorithm strategies? Algorithm kind?)\n",
    "Canonical test data (might be a script to generate it) \n",
    "\n",
    "2.1 Sample test data to run with the algorithm (this can be interesting examples to show the utility of the algorithm)\n",
    "\n",
    "The actual code of the algorithm which can indeed run\n",
    "\n",
    "Evaluation plan - empirical"
   ]
  },
  {
   "cell_type": "code",
   "execution_count": 379,
   "metadata": {},
   "outputs": [],
   "source": [
    "import pickle as pk\n",
    "import numpy as np\n",
    "from typing import List\n",
    "import matplotlib.pyplot as plt\n",
    "from random import randint\n",
    "import random\n",
    "from sklearn.model_selection import train_test_split"
   ]
  },
  {
   "cell_type": "markdown",
   "metadata": {},
   "source": [
    "## 1. ALGORITHM INTRODUCTION"
   ]
  },
  {
   "cell_type": "markdown",
   "metadata": {},
   "source": [
    "### 1.1. Theoretical details and algorithm theoritical complexity"
   ]
  },
  {
   "cell_type": "code",
   "execution_count": null,
   "metadata": {},
   "outputs": [],
   "source": []
  },
  {
   "cell_type": "markdown",
   "metadata": {},
   "source": [
    "### 1.2. Algorithm details"
   ]
  },
  {
   "cell_type": "code",
   "execution_count": null,
   "metadata": {},
   "outputs": [],
   "source": []
  },
  {
   "cell_type": "markdown",
   "metadata": {},
   "source": [
    "### 2. Canonical Test Data"
   ]
  },
  {
   "cell_type": "code",
   "execution_count": 380,
   "metadata": {},
   "outputs": [],
   "source": [
    "# The following scripts generates data of various size"
   ]
  },
  {
   "cell_type": "code",
   "execution_count": 394,
   "metadata": {},
   "outputs": [],
   "source": [
    "# linear function to generate y values from given X values\n",
    "\n",
    "def linear_function(X, noise):\n",
    "    data = {}\n",
    "    mu = 0\n",
    "    sigma = 2\n",
    "    gaussian_randomization = np.random.normal(mu, sigma, len(X))    \n",
    "    y = (2*X) + 2 + (gaussian_randomization*noise)\n",
    "    return y # list of y values and data{X:y} dict"
   ]
  },
  {
   "cell_type": "code",
   "execution_count": 396,
   "metadata": {},
   "outputs": [],
   "source": [
    "# generate X and y values and a data dict {X:y} for storage\n",
    "def generate_data_values(array_size, noise):\n",
    "    # generate x values from the test data\n",
    "    x_list = np.linspace(1.0, 100.0, num=array_size, endpoint=False, dtype=float)\n",
    "    # convert x values to an numpy array\n",
    "    X = np.array(x_list)\n",
    "    y = linear_function(X, noise)\n",
    "    data = dict(zip(X, y)) # create a dictionary {X:Y} for pickle storage\n",
    "    return data"
   ]
  },
  {
   "cell_type": "markdown",
   "metadata": {},
   "source": [
    "### 2.1 Writing and reading data using Pickle"
   ]
  },
  {
   "cell_type": "code",
   "execution_count": 397,
   "metadata": {},
   "outputs": [],
   "source": [
    "# pickling data \n",
    "def generate_canonical_test_files(array_size, noise=.5):\n",
    "    for i in range(len(array_size)):\n",
    "        filename = 'data_' + str(array_size[i])\n",
    "        outfile = open(filename, 'wb')\n",
    "        # generate values\n",
    "        data = generate_data_values(array_size[i], noise)\n",
    "        # write values to a file\n",
    "        pk.dump(data, outfile)\n",
    "        print(filename + ' created')\n",
    "        outfile.close()"
   ]
  },
  {
   "cell_type": "code",
   "execution_count": 398,
   "metadata": {},
   "outputs": [],
   "source": [
    "# unpickling data\n",
    "def read_data_file(filename):\n",
    "    infile = open(filename, 'rb')\n",
    "    data = pk.load(infile)\n",
    "    infile.close()\n",
    "    return data"
   ]
  },
  {
   "cell_type": "markdown",
   "metadata": {},
   "source": [
    "### 2.2 Prepare data for algorithm processing"
   ]
  },
  {
   "cell_type": "code",
   "execution_count": 399,
   "metadata": {},
   "outputs": [],
   "source": [
    "# parse loaded Pickle dictionary into X, Y lists and a points in (X,Y) format\n",
    "def parse_data_dict(adict):\n",
    "    X, y = zip(*adict.items())\n",
    "    return np.array(X), np.array(y)\n",
    "        "
   ]
  },
  {
   "cell_type": "markdown",
   "metadata": {},
   "source": [
    "## 3. ALGORITHM"
   ]
  },
  {
   "cell_type": "markdown",
   "metadata": {},
   "source": [
    "Source: Raheem, Abdul Hafeez Abdul. “Linear Regression from Scratch.” Medium, Towards Data Science, 11 Nov. 2018, towardsdatascience.com/linear-regression-from-scratch-cd0dee067f72."
   ]
  },
  {
   "cell_type": "code",
   "execution_count": 400,
   "metadata": {},
   "outputs": [],
   "source": [
    "def ordinary_least_squares(X, y, N):\n",
    "    mean_x = np.mean(X)\n",
    "    mean_y = np.mean(y)\n",
    "    numerator = 0\n",
    "    denominator = 0\n",
    "    \n",
    "    for i in range(N):\n",
    "        numerator += (X[i] - mean_x) * (y[i] - mean_y)\n",
    "        denominator += (X[i] - mean_x) ** 2\n",
    "    \n",
    "    b1 = numerator/denominator\n",
    "    b0 = mean_y - (b1 * mean_x)\n",
    "    \n",
    "    return b1, b0\n"
   ]
  },
  {
   "cell_type": "code",
   "execution_count": 401,
   "metadata": {},
   "outputs": [],
   "source": [
    "def calculate_y_pred(X, b0, b1, N):\n",
    "    y_pred = b0 + b1*X\n",
    "    return y_pred"
   ]
  },
  {
   "cell_type": "code",
   "execution_count": 402,
   "metadata": {},
   "outputs": [],
   "source": [
    "def calculate_rmse(X, y, y_pred, N):\n",
    "    rmse = 0\n",
    "    for i in range(N):\n",
    "        y_actual = y[i]        \n",
    "        rmse += (y_pred - y_actual) ** 2\n",
    "    rmse = rmse/N\n",
    "    return np.sqrt(rmse)"
   ]
  },
  {
   "cell_type": "code",
   "execution_count": 403,
   "metadata": {},
   "outputs": [],
   "source": [
    "def calculate_r_squared(X, y, b0, b1, y_pred, mean_y, N):\n",
    "    ssr = 0\n",
    "    sst = 0\n",
    "    for i in range(N):\n",
    "        ssr += (y[i] - y_pred[i]) ** 2\n",
    "        sst += (y[i] - mean_y) ** 2\n",
    "    \n",
    "    r_squared = 1 - (ssr/sst)\n",
    "    return r_squared"
   ]
  },
  {
   "cell_type": "code",
   "execution_count": 408,
   "metadata": {},
   "outputs": [
    {
     "name": "stdout",
     "output_type": "stream",
     "text": [
      "data_10 created\n",
      "data_100 created\n",
      "len X100\n",
      "len y100\n",
      "b1: 1.9813677298324635\n",
      "b0: 3.0251957390514264\n",
      "rmse: [ 57.34486582  92.50865355  74.67186818  59.27498421  67.08544806\n",
      "  90.20270758  60.52754605 105.34386181  99.62783901  70.40176927\n",
      "  96.42889678  57.21051354  87.93475168  72.18280224 100.4355986\n",
      " 106.17155603  64.1386316   63.24758558  64.6018833   88.68633495\n",
      "  56.8394073   65.56259139 102.87692662 103.69648297  73.41167976\n",
      "  84.24755779  82.09637887  75.96180922  60.87617324  93.28525884\n",
      "  77.28001301 109.50761684  87.18772246  62.00343106 101.24641462\n",
      "  77.94926656 104.51881638  62.40549246  63.68711525  94.06567866\n",
      "  57.66269793 110.34766636  57.09269593  58.73701386  56.75472655\n",
      "  65.07661972  57.49563688  66.05955036  60.19288197 107.00183759\n",
      "  79.3072203   59.87241516  58.4908462   56.99151556 108.6699253\n",
      "  58.04511363  74.0379591   67.61390157 102.06021423  58.99846058\n",
      "  61.6143594   86.44536534  62.82029419  70.98686176 112.88143574\n",
      "  56.788614    81.39032249 111.19002044  78.62505803  90.96727681\n",
      "  97.22365919  72.79322708  89.44235746  83.52513768  82.80803162\n",
      "  59.56637476  69.25842766  91.73595965  98.8232108   56.73777524]\n",
      "r2: 0.9962042934989745\n"
     ]
    }
   ],
   "source": [
    "array_size = [10,100]\n",
    "generate_canonical_test_files(array_size, noise=2)\n",
    "filename = 'data_100'\n",
    "data = read_data_file(filename)\n",
    "X, y = parse_data_dict(data)\n",
    "print('len X' + str(len(X)))\n",
    "print('len y' + str(len(y)))\n",
    "X_train, X_test, y_train, y_test = train_test_split(X, y, test_size=0.20, random_state=42)\n",
    "b1, b0 = ordinary_least_squares(X_train, y_train, N_train)   \n",
    "print('b1: ' + str(b1))\n",
    "print('b0: ' + str(b0))\n",
    "y_pred_train = calculate_y_pred(X_train, b0, b1, N_train)\n",
    "y_pred_test = calculate_y_pred(X_test, b0, b1, N_test)\n",
    "rmse = calculate_rmse(X_train, y_train, y_pred_train, N_train)\n",
    "print('rmse: ' + str(rmse))\n",
    "r2 = calculate_r_squared(X_train, y_train, b0, b1, y_pred_train, np.mean(y_train), N_train)\n",
    "print('r2: ' + str(r2))\n",
    "\n"
   ]
  },
  {
   "cell_type": "markdown",
   "metadata": {},
   "source": [
    "### 3.1. Plotting data"
   ]
  },
  {
   "cell_type": "code",
   "execution_count": 410,
   "metadata": {},
   "outputs": [
    {
     "data": {
      "image/png": "[encoded data removed]",
      "text/plain": [
       "<Figure size 1440x1440 with 1 Axes>"
      ]
     },
     "metadata": {
      "needs_background": "light"
     },
     "output_type": "display_data"
    }
   ],
   "source": [
    "# increase size of plot\n",
    "plt.figure(figsize=(20,20))\n",
    "# plotting points\n",
    "plt.scatter(X_train, y_train, label='data', color='blue', s=10)\n",
    "# plotting predicted line\n",
    "plt.plot(X_train, y_pred_train, color='green')\n",
    "# add x-label\n",
    "plt.xlabel('x axis')\n",
    "# add y-label\n",
    "plt.ylabel('y axis')\n",
    "# plot title\n",
    "plt.title('Training Data Actual vs Predicted')\n",
    "# show legend\n",
    "plt.legend()\n",
    "#show graph\n",
    "plt.show()"
   ]
  },
  {
   "cell_type": "code",
   "execution_count": 411,
   "metadata": {},
   "outputs": [
    {
     "data": {
      "image/png": "[encoded data removed]",
      "text/plain": [
       "<Figure size 1440x1440 with 1 Axes>"
      ]
     },
     "metadata": {
      "needs_background": "light"
     },
     "output_type": "display_data"
    }
   ],
   "source": [
    "# increase size of plot\n",
    "plt.figure(figsize=(20,20))\n",
    "# plotting points\n",
    "plt.scatter(X_test, y_test, label='data', color='blue', s=10)\n",
    "# plotting predicted line\n",
    "plt.plot(X_test, y_pred_test, color='green')\n",
    "# add x-label\n",
    "plt.xlabel('x axis')\n",
    "# add y-label\n",
    "plt.ylabel('y axis')\n",
    "# plot title\n",
    "plt.title('Test Data Actual vs Predicted')\n",
    "# show legend\n",
    "plt.legend()\n",
    "#show graph\n",
    "plt.show()"
   ]
  },
  {
   "cell_type": "code",
   "execution_count": null,
   "metadata": {},
   "outputs": [],
   "source": []
  },
  {
   "cell_type": "code",
   "execution_count": null,
   "metadata": {},
   "outputs": [],
   "source": []
  },
  {
   "cell_type": "code",
   "execution_count": null,
   "metadata": {},
   "outputs": [],
   "source": []
  },
  {
   "cell_type": "code",
   "execution_count": null,
   "metadata": {},
   "outputs": [],
   "source": []
  },
  {
   "cell_type": "markdown",
   "metadata": {},
   "source": [
    "## 4. EMPIRICAL PLAN"
   ]
  },
  {
   "cell_type": "code",
   "execution_count": null,
   "metadata": {},
   "outputs": [],
   "source": []
  }
 ],
 "metadata": {
  "kernelspec": {
   "display_name": "Python 3",
   "language": "python",
   "name": "python3"
  },
  "language_info": {
   "codemirror_mode": {
    "name": "ipython",
    "version": 3
   },
   "file_extension": ".py",
   "mimetype": "text/x-python",
   "name": "python",
   "nbconvert_exporter": "python",
   "pygments_lexer": "ipython3",
   "version": "3.8.3"
  }
 },
 "nbformat": 4,
 "nbformat_minor": 4
}
