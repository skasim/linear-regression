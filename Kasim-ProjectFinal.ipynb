{
 "cells": [
  {
   "cell_type": "markdown",
   "metadata": {},
   "source": [
    "# Project Report\n",
    "by Samra Kasim"
   ]
  },
  {
   "cell_type": "markdown",
   "metadata": {},
   "source": [
    "## Evaluation of the Linear Regression Algorithm Utilizing Ordinary Least Squares Method"
   ]
  },
  {
   "cell_type": "markdown",
   "metadata": {},
   "source": [
    "### Introduction"
   ]
  },
  {
   "cell_type": "markdown",
   "metadata": {},
   "source": [
    "The Linear Regression algorithm is used for predictive analysis and it demonstrates the relationship (if it exists) between two variables using a linear equation (i.e., a straight line). [1] One variable is known as the dependent variable and the other as the independent variable. The algorithm utilizes the ordinary least squares method to create the line of best fit. The least square methods minimizes the sum of square errors. [2] Root Mean Square Error ($RMSE$) Root Mean Squared ($R^2$) calculations are used alongside Linear Regression to determine the accuracy of the model. The purpose of linear regression is to examine if a variable is a significant predictor of an outcome variable. Linear regression is often used in determining predictor strength, effect forecasting, and trend forecasting. [3]"
   ]
  },
  {
   "cell_type": "markdown",
   "metadata": {},
   "source": [
    "### The Algorithm"
   ]
  },
  {
   "cell_type": "markdown",
   "metadata": {},
   "source": [
    "The linear regression algorithm utlizes `numpy` arrays as the data structure to store and process data. The linear regression line has the equation in the form of\n",
    "\n",
    "$$ Y = \\beta_0 + \\beta_1X $$ \n",
    "\n",
    "where $X$ is the independent variable and $Y$ is the dependent variable. $\\beta1$ is the slope of the line and is also called the coefficient while $\\beta0$ is the $y$ intercept and is also called the bias coefficient.\n",
    "\n",
    "The algorithm utilizes the Ordinary Least Squares method for linear regression, which entails calculating the line of best fit by minimizing the sum of squares for each point. [5] The calculation of the sum of square errors for all points $n$ can be represented as the equation and the error is squared to account for negative error values \n",
    "\n",
    "$$ D = \\sum \\limits_{i=1}^{n} d_i^2 $$\n",
    "\n",
    "The errors above as represented by $D$ can be minimzed by the following equation to calculate the slope $\\beta_1$ and y intercept $\\beta_0$\n",
    "\n",
    "$$ \\beta_1 = \\frac {\\sum \\limits_{i=1}^{n}(x_i - \\bar{x})(y_i - \\bar{y})} {\\sum \\limits_{i=1}^{n} (x_i - \\bar{x})}$$\n",
    "\n",
    "$$ \\beta_0 = \\bar{y} - \\beta_1{x}$$\n",
    "\n",
    "Therefore, the algorithm is as follows:\n",
    "1. Calculate the mean of all $x$ values in the dataset.\n",
    "2. Calculate the mean of all $y$ values in the dataset.\n",
    "3. For every pair of $x$ and $y$ values, calculate the difference of every $x_i$ value from the mean. Then multiply that by the difference of every $y_i$ value and its difference from $\\bar{y}$ to calculate the numerator of the slope. Additionally, calculate a denominator by  taking the difference of every $x_i$ value from the mean and squaring to calcuate the denominator of the slope.  \n",
    "4. Calculate the $\\beta_1$ value by dividing the numerator and denominator for the previous step\n",
    "5. Calculate the $\\beta_0$ value by subtracting the multiplication of the slope from the previous step with $\\bar{x}$ and subtracting that value $\\bar{y}$\n",
    "\n",
    "The straight line $y = \\beta_0 + \\beta_1X$ generated from the above algorithm is the line of best for the given data points.\n",
    "\n",
    "To calculate the accuracy of the model, this project utilizes $RMSE$ and $R^2$. $RMSE$ as represented by the following equation and measures the residual, which is the difference between the predicted $\\hat{y_i}$ and actual $y_i$ values of a model. [6] The smaller the $RMSE$ value the closer the model is a git to the data. [8]\n",
    "\n",
    "$$RMSE = \\sqrt{ \\sum \\limits_{i=1}^{n} \\frac{1}{m} (\\hat{y_i} - y_i)^2}$$\n",
    "\n",
    "The $R^2$ error measure denotes the proportion of variance of a dependent variable that can be explained by the indepenent variable. The $SS_t$ value represents the unexplained variation and the $SS_r$ value represents total variation. The closer the $R^2$ is to $1$ the better fit the predicted model is to the data. [7]\n",
    "\n",
    " $$ SS_t = \\sum \\limits_{i=1}^{n} (y_i - \\bar{y})^2 $$\n",
    " $$ SS_r = \\sum \\limits_{i=1}^{n} (y_i - \\hat{y})^2 $$\n",
    " $$ R^2 = 1 - \\frac{SS_r}{SS_t}$$"
   ]
  },
  {
   "cell_type": "markdown",
   "metadata": {},
   "source": [
    "### Practical Applications"
   ]
  },
  {
   "cell_type": "code",
   "execution_count": null,
   "metadata": {},
   "outputs": [],
   "source": []
  },
  {
   "cell_type": "markdown",
   "metadata": {},
   "source": [
    "### The Algorithm Script"
   ]
  },
  {
   "cell_type": "code",
   "execution_count": 163,
   "metadata": {},
   "outputs": [],
   "source": [
    "import numpy as np"
   ]
  },
  {
   "cell_type": "code",
   "execution_count": 164,
   "metadata": {},
   "outputs": [],
   "source": [
    "def ordinary_least_squares(X, y, N):\n",
    "    # calculate mean of all X values\n",
    "    mean_x = np.mean(X)                                # O(n)\n",
    "    # calculate mean of all y values\n",
    "    mean_y = np.mean(y)                                # O(n)\n",
    "    numerator = 0                                      # O(1)\n",
    "    denominator = 0                                    # O(1)\n",
    "    # for each (x,y) par in the dataset\n",
    "    # minimize the errors\n",
    "    for i in range(N):                                 # O(n)\n",
    "        numerator += (X[i] - mean_x) * (y[i] - mean_y) # O(1)\n",
    "        denominator += (X[i] - mean_x) ** 2            # O(1)\n",
    "\n",
    "    # calculate the slope of the line\n",
    "    b1 = numerator/denominator                         # O(1)\n",
    "    # calculate the y intercept of the line\n",
    "    b0 = mean_y - (b1 * mean_x)                        # O(1)\n",
    "    \n",
    "    return b1, b0                                      # O(1)\n"
   ]
  },
  {
   "cell_type": "markdown",
   "metadata": {},
   "source": [
    "### Error Calculation"
   ]
  },
  {
   "cell_type": "code",
   "execution_count": 165,
   "metadata": {},
   "outputs": [],
   "source": [
    "# calculate every predicted y values given a b0, b1\n",
    "def calculate_y_pred(X, b0, b1, N):\n",
    "    y_pred = b0 + b1*X  # O(n) because uses numpy array multiplication\n",
    "    return y_pred       # O(1)"
   ]
  },
  {
   "cell_type": "code",
   "execution_count": 166,
   "metadata": {},
   "outputs": [],
   "source": [
    "# calculate the RMSE\n",
    "def calculate_rmse(X, y, y_pred, N):\n",
    "    rmse = 0                                          # O(1)\n",
    "    # for every (x,y) pair\n",
    "    for i in range(N):                                # O(n)\n",
    "        y_actual = y[i]                               # O(1)\n",
    "        # sum the residual of by taking the \n",
    "        # squared difference of actual y value\n",
    "        # from the predicted by value\n",
    "        rmse += (y_pred[i] - y_actual) ** 2           # O(1)\n",
    "    # calcualte the average rmse\n",
    "    rmse = rmse/N                                     # O(1)\n",
    "    # square root the average rmse\n",
    "    return np.sqrt(rmse)                              # O(1)"
   ]
  },
  {
   "cell_type": "code",
   "execution_count": 167,
   "metadata": {},
   "outputs": [],
   "source": [
    "# calculate r^2\n",
    "def calculate_r_squared(X, y, b0, b1, y_pred, mean_y, N):\n",
    "    ssr = 0                                           # O(1)\n",
    "    sst = 0                                           # O(1)\n",
    "    # for every (x,y) pair\n",
    "    for i in range(N):                                # O(n)\n",
    "        # calculate total variance\n",
    "        ssr += (y[i] - y_pred[i]) ** 2                # O(1)                \n",
    "        # calculate unexplained variance\n",
    "        sst += (y[i] - mean_y) ** 2                   # O(1)\n",
    "    # subtract from 1 to provide a ratio\n",
    "    # representing r^2\n",
    "    r_squared = 1 - (ssr/sst)                         # O(1)\n",
    "    return r_squared                                  # O(1)"
   ]
  },
  {
   "cell_type": "markdown",
   "metadata": {},
   "source": [
    "### Canonical Test Data Generation"
   ]
  },
  {
   "cell_type": "markdown",
   "metadata": {},
   "source": [
    "The following methods faciliate generation of data of various sizes and writing and reading data to pickle files. The data utilizes a linear equation with parameterized $\\beta_0$, $\\beta_1$, and noise values that can be manipulated to enhance the variability of the datasets. In addition, gaussian randomization with parameterized $\\mu$ and $\\sigma$ values are also added to the linear equation to add variability."
   ]
  },
  {
   "cell_type": "code",
   "execution_count": 168,
   "metadata": {},
   "outputs": [],
   "source": [
    "import pickle as pk\n",
    "from random import randint\n",
    "import random\n",
    "from IPython.display import display, Markdown, Latex"
   ]
  },
  {
   "cell_type": "code",
   "execution_count": 169,
   "metadata": {},
   "outputs": [],
   "source": [
    "# linear function to generate y values from given X values\n",
    "# param X represents a list of x values\n",
    "# param noise represents the level of noise to add to the linear equation\n",
    "def linear_function(X, noise, b1, b0, mu, sigma):\n",
    "    # to provide variability in the generated random set\n",
    "    # gaussian randomization is added to the linear equation\n",
    "    # noise is added to give added variability\n",
    "    gaussian_randomization = np.random.normal(mu, sigma, len(X))    \n",
    "    y = (b1*X) + b0 + (gaussian_randomization*noise)\n",
    "    return y # list of y values"
   ]
  },
  {
   "cell_type": "code",
   "execution_count": 170,
   "metadata": {},
   "outputs": [],
   "source": [
    "# generate X and y values and a data dict {X:y} for storage\n",
    "def generate_data_values(array_size, noise, stop, b1, b0, mu, sigma):\n",
    "    # generate x values based on the array_size provided\n",
    "    x_list = np.linspace(1.0, stop, num=array_size, endpoint=False, dtype=float)\n",
    "    # convert x values to an numpy array\n",
    "    X = np.array(x_list)\n",
    "    y = linear_function(X, noise, b1, b0, mu, sigma)\n",
    "    data = dict(zip(X, y)) # create a dictionary {X:Y} for pickle storage\n",
    "    return data"
   ]
  },
  {
   "cell_type": "code",
   "execution_count": 171,
   "metadata": {},
   "outputs": [],
   "source": [
    "# pickling data \n",
    "def generate_canonical_test_files(files_created, array_size, noise=.5, stop=100.0, b1=2, b0=2, mu=0, sigma=2, noise_type='low_'):\n",
    "    # given a list of array size for each of the array size\n",
    "    # generate a file and save it to disk\n",
    "    for i in range(len(array_size)):\n",
    "        filename = 'data_'+ noise_type + str(array_size[i])\n",
    "        print(filename)\n",
    "        files_created.append(filename)\n",
    "        outfile = open(filename, 'wb')\n",
    "        # generate values\n",
    "        data = generate_data_values(array_size[i], noise, stop, b1, b0, mu, sigma)\n",
    "        # write values to a file\n",
    "        pk.dump(data, outfile)\n",
    "        outfile.close()\n",
    "    return files_created"
   ]
  },
  {
   "cell_type": "code",
   "execution_count": 172,
   "metadata": {},
   "outputs": [],
   "source": [
    "# unpickling data\n",
    "def read_data_file(filename):\n",
    "    # read a given file on disk and load it into memory\n",
    "    infile = open(filename, 'rb')\n",
    "    data = pk.load(infile)\n",
    "    infile.close()\n",
    "    return data # returns a dictionary in the form {X:y}"
   ]
  },
  {
   "cell_type": "code",
   "execution_count": 173,
   "metadata": {},
   "outputs": [],
   "source": [
    "# parse loaded Pickle dictionary into X, Y lists\n",
    "def parse_data_dict(adict):\n",
    "    X, y = zip(*adict.items())\n",
    "    return np.array(X), np.array(y) # return numpy arrays\n",
    "        "
   ]
  },
  {
   "cell_type": "markdown",
   "metadata": {},
   "source": [
    "#### Algorithm Validation\n"
   ]
  },
  {
   "cell_type": "code",
   "execution_count": 174,
   "metadata": {},
   "outputs": [
    {
     "data": {
      "text/markdown": [
       "**Validating algorithm...**"
      ],
      "text/plain": [
       "<IPython.core.display.Markdown object>"
      ]
     },
     "metadata": {},
     "output_type": "display_data"
    },
    {
     "name": "stdout",
     "output_type": "stream",
     "text": [
      "ordinary least squares algorithm is correct\n",
      "predicted y values are correct\n",
      "r^2 and rmse values are correct\n"
     ]
    }
   ],
   "source": [
    "def validate_algorithm():\n",
    "    x_list = np.linspace(1.0, stop=100, num=10, endpoint=False, dtype=float)\n",
    "    X = np.array(x_list)\n",
    "    y = linear_function(X, noise=0, b1=3.2, b0=1.7, mu=0, sigma=2)\n",
    "    N = 10\n",
    "    b1, b0 = ordinary_least_squares(X, y, N)\n",
    "    y_pred = calculate_y_pred(X, b0, b1, N)\n",
    "    rmse = calculate_rmse(X, y, y_pred, N)\n",
    "    r2 = calculate_r_squared(X, y, b0, b1, y_pred, np.mean(y), N)\n",
    "    display(Markdown('**Validating algorithm...**' ))\n",
    "    if round(b1,3) == 3.2 and round(b0,3) == 1.7:\n",
    "        print('ordinary least squares algorithm is correct')\n",
    "    if y_pred.all() == y.all():\n",
    "        print('predicted y values are correct')\n",
    "    if round(r2,3) == 1.0 and round(rmse, 3) == 0.0:\n",
    "        print('r^2 and rmse values are correct')\n",
    "\n",
    "validate_algorithm()\n"
   ]
  },
  {
   "cell_type": "markdown",
   "metadata": {},
   "source": [
    "### Algorithm Demonstration"
   ]
  },
  {
   "cell_type": "code",
   "execution_count": 175,
   "metadata": {},
   "outputs": [],
   "source": [
    "def algorithm_demo_with_covid_data(df):\n",
    "    X = np.asarray(df['day'])\n",
    "    y = np.asarray(df['total_infected'])\n",
    "    X_train, X_test, y_train, y_test = train_test_split(X, y, test_size=0.20, random_state=42)\n",
    "    N_train = len(X_train)\n",
    "    N_test = len(X_test)\n",
    "    # run algorithm and measure run time\n",
    "    start_run = timer()\n",
    "    b1, b0 = ordinary_least_squares(X_train, y_train, N_train)\n",
    "    end_run = timer()\n",
    "    run_time = end_run - start_run\n",
    "    display(Markdown('Run time: %s' % run_time))\n",
    "    # calculate error\n",
    "    display(Markdown('**Analysis** '))\n",
    "    display(Markdown('$y=%s+%sX$' %(b0,b1)))\n",
    "    y_pred_train = calculate_y_pred(X_train, b0, b1, N_train)\n",
    "    y_pred_test = calculate_y_pred(X_test, b0, b1, N_test)\n",
    "    rmse = calculate_rmse(X_test, y_test, y_pred_test, N_test)\n",
    "    display(Markdown('$RMSE$: %s' % rmse))\n",
    "    r2 = calculate_r_squared(X_test, y_test, b0, b1, y_pred_test, np.mean(y_test), N_test)\n",
    "    display(Markdown('$R^2$: %s' % r2))\n",
    "    return X_train, y_train, X_test, y_test, y_pred_train"
   ]
  },
  {
   "cell_type": "code",
   "execution_count": 176,
   "metadata": {},
   "outputs": [],
   "source": [
    "def draw_demo_covid_graph(plt, X_train, y_train, X_test, y_test, y_pred_train, title):\n",
    "    # plotting points\n",
    "    plt.scatter(X_train, y_train, label='training data', color='dodgerblue', s=2)\n",
    "    plt.scatter(X_test, y_test, label='test data', color='orangered', s=4)\n",
    "    # plotting predicted line\n",
    "    plt.plot(X_train, y_pred_train, color='darkslategrey', label='predicted')\n",
    "    # add x-label\n",
    "    plt.xlabel('Day')\n",
    "    # add y-label\n",
    "    plt.ylabel('Total Infected')\n",
    "    # plot title\n",
    "    plt.title(title)\n",
    "    # show legend\n",
    "    plt.legend()\n",
    "    #show graph\n",
    "    plt.show()"
   ]
  },
  {
   "cell_type": "code",
   "execution_count": 177,
   "metadata": {},
   "outputs": [
    {
     "data": {
      "text/markdown": [
       "Run time: 0.0007875540013628779"
      ],
      "text/plain": [
       "<IPython.core.display.Markdown object>"
      ]
     },
     "metadata": {},
     "output_type": "display_data"
    },
    {
     "data": {
      "text/markdown": [
       "**Analysis** "
      ],
      "text/plain": [
       "<IPython.core.display.Markdown object>"
      ]
     },
     "metadata": {},
     "output_type": "display_data"
    },
    {
     "data": {
      "text/markdown": [
       "$y=-11994991.609318536+74120.09589205543X$"
      ],
      "text/plain": [
       "<IPython.core.display.Markdown object>"
      ]
     },
     "metadata": {},
     "output_type": "display_data"
    },
    {
     "data": {
      "text/markdown": [
       "$RMSE$: 190158.63182278784"
      ],
      "text/plain": [
       "<IPython.core.display.Markdown object>"
      ]
     },
     "metadata": {},
     "output_type": "display_data"
    },
    {
     "data": {
      "text/markdown": [
       "$R^2$: 0.9938102898578083"
      ],
      "text/plain": [
       "<IPython.core.display.Markdown object>"
      ]
     },
     "metadata": {},
     "output_type": "display_data"
    }
   ],
   "source": [
    "cdf = pd.read_csv('india_covid_timeseries.csv')\n",
    "post_opening = cdf.iloc[180:]\n",
    "X_train_in, y_train_in, X_test_in, y_test_in, y_pred_train_in = algorithm_demo_with_covid_data(post_opening)"
   ]
  },
  {
   "cell_type": "code",
   "execution_count": 178,
   "metadata": {},
   "outputs": [
    {
     "data": {
      "image/png": "[encoded data removed]",
      "text/plain": [
       "<Figure size 432x288 with 1 Axes>"
      ]
     },
     "metadata": {
      "needs_background": "light"
     },
     "output_type": "display_data"
    }
   ],
   "source": [
    "draw_demo_covid_graph(plt,X_train_in, y_train_in, X_test_in, y_test_in, y_pred_train_in, 'COVID-19 Infection Data for India Post-Lockdown Opening: \\n Actual vs Predicted')"
   ]
  },
  {
   "cell_type": "code",
   "execution_count": 179,
   "metadata": {},
   "outputs": [
    {
     "data": {
      "text/markdown": [
       "Run time: 0.0005032070002926048"
      ],
      "text/plain": [
       "<IPython.core.display.Markdown object>"
      ]
     },
     "metadata": {},
     "output_type": "display_data"
    },
    {
     "data": {
      "text/markdown": [
       "**Analysis** "
      ],
      "text/plain": [
       "<IPython.core.display.Markdown object>"
      ]
     },
     "metadata": {},
     "output_type": "display_data"
    },
    {
     "data": {
      "text/markdown": [
       "$y=-110759.76141570318+662.4130694848332X$"
      ],
      "text/plain": [
       "<IPython.core.display.Markdown object>"
      ]
     },
     "metadata": {},
     "output_type": "display_data"
    },
    {
     "data": {
      "text/markdown": [
       "$RMSE$: 2682.1488755130717"
      ],
      "text/plain": [
       "<IPython.core.display.Markdown object>"
      ]
     },
     "metadata": {},
     "output_type": "display_data"
    },
    {
     "data": {
      "text/markdown": [
       "$R^2$: 0.9560958135850199"
      ],
      "text/plain": [
       "<IPython.core.display.Markdown object>"
      ]
     },
     "metadata": {},
     "output_type": "display_data"
    }
   ],
   "source": [
    "sd_df = pd.read_csv('sd_covid_timeseries.csv').iloc[-60:]\n",
    "# sd_df.plot(x='day', y='total_infected', kind='scatter')\n",
    "X_train_nd, y_train_nd, X_test_nd, y_test_nd, y_pred_train_nd = algorithm_demo_with_covid_data(sd_df)"
   ]
  },
  {
   "cell_type": "code",
   "execution_count": 180,
   "metadata": {},
   "outputs": [
    {
     "data": {
      "image/png": "[encoded data removed]",
      "text/plain": [
       "<Figure size 432x288 with 1 Axes>"
      ]
     },
     "metadata": {
      "needs_background": "light"
     },
     "output_type": "display_data"
    }
   ],
   "source": [
    "draw_demo_covid_graph(plt, X_train_nd, y_train_nd, X_test_nd, y_test_nd, y_pred_train_nd, 'Last 60 Day Data for COVID-19 Infection Data for South Dakota: \\n Actual vs Predicted')"
   ]
  },
  {
   "cell_type": "markdown",
   "metadata": {},
   "source": [
    "### Theoretical Analysis"
   ]
  },
  {
   "cell_type": "markdown",
   "metadata": {},
   "source": [
    "The following provides the time and space complexity of the ordinary least squares algorithm. Refer to the above cells for details on algorithm complexity  \n",
    "\n",
    "**Worst case:**  There are $N$ elements in each $X$ and $y$ arrays. The algorithm runs three loops N times:   \n",
    "  1) calculate the mean of all X values   \n",
    "  2) calculate the mean of all y values   \n",
    "  3) main loop. Together, they combine to produce a worst case complexity of $\\mathcal{O}(n+n+n)$, which utilizing asymptotic analysis is $\\mathcal{O}(n)$.    \n",
    "**Average case:** Since each of the three loops have to be run no matter the size or nature of the elements in the array, the average case complexity is also $\\mathcal{O}(n)$.  \n",
    "**Space complexity:** The $X$, $y$ arrays each have a space complexity of $\\mathcal{O}(n)$. The other variables $N$, `mean_x`, `mean_y`, `numerator`, `denominator`, `b1`, and `b0` all hold single values and have space complexity of $\\mathcal{O}(1)$ each. Together the space complexity for the algorithm is $\\mathcal{O}(n+n+7)$ and with asymptotic analysis it is $\\mathcal{O}(n)$"
   ]
  },
  {
   "cell_type": "markdown",
   "metadata": {},
   "source": [
    "### Empirical Analysis"
   ]
  },
  {
   "cell_type": "code",
   "execution_count": 181,
   "metadata": {},
   "outputs": [],
   "source": [
    "from sklearn.model_selection import train_test_split\n",
    "import matplotlib.pyplot as plt\n",
    "import pandas as pd\n",
    "from timeit import default_timer as timer"
   ]
  },
  {
   "cell_type": "code",
   "execution_count": 182,
   "metadata": {},
   "outputs": [
    {
     "data": {
      "text/markdown": [
       "**Generating low noise canonical files:**"
      ],
      "text/plain": [
       "<IPython.core.display.Markdown object>"
      ]
     },
     "metadata": {},
     "output_type": "display_data"
    },
    {
     "name": "stdout",
     "output_type": "stream",
     "text": [
      "data_low_100\n",
      "data_low_1000\n",
      "data_low_10000\n",
      "data_low_100000\n",
      "data_low_1000000\n",
      "data_low_10000000\n"
     ]
    },
    {
     "data": {
      "text/markdown": [
       "**Generating high noise canonical files:**"
      ],
      "text/plain": [
       "<IPython.core.display.Markdown object>"
      ]
     },
     "metadata": {},
     "output_type": "display_data"
    },
    {
     "name": "stdout",
     "output_type": "stream",
     "text": [
      "data_high_100\n",
      "data_high_1000\n",
      "data_high_10000\n",
      "data_high_100000\n",
      "data_high_1000000\n",
      "data_high_10000000\n"
     ]
    },
    {
     "data": {
      "text/plain": [
       "['data_low_100',\n",
       " 'data_low_1000',\n",
       " 'data_low_10000',\n",
       " 'data_low_100000',\n",
       " 'data_low_1000000',\n",
       " 'data_low_10000000',\n",
       " 'data_high_100',\n",
       " 'data_high_1000',\n",
       " 'data_high_10000',\n",
       " 'data_high_100000',\n",
       " 'data_high_1000000',\n",
       " 'data_high_10000000']"
      ]
     },
     "execution_count": 182,
     "metadata": {},
     "output_type": "execute_result"
    }
   ],
   "source": [
    "# generate low noise test files of the following sizes\n",
    "files_created = []\n",
    "array_size=[100,1000,10000,100000, 1000000, 10000000]\n",
    "display(Markdown('**Generating low noise canonical files:**'))\n",
    "generate_canonical_test_files(files_created, array_size, noise=2, stop=500, b1=3, b0=5, noise_type='low_')\n",
    "# generate high noise test files of the following sizes\n",
    "display(Markdown('**Generating high noise canonical files:**'))\n",
    "generate_canonical_test_files(files_created, array_size, noise=15, stop=500, mu=0, sigma=3, noise_type='high_')"
   ]
  },
  {
   "cell_type": "code",
   "execution_count": 183,
   "metadata": {},
   "outputs": [],
   "source": [
    "# conduct empirical analysis on the data row by row\n",
    "# return result as a dict, which represents each row in a pandas dataframe\n",
    "def conduct_empirical_analysis(filename, noise_level):\n",
    "    row_dict = {}\n",
    "    # read the following file and load data in memory\n",
    "    data = read_data_file(filename)\n",
    "    X, y = parse_data_dict(data)\n",
    "#     display(Markdown('*Loaded file: %s*' % filename))\n",
    "    # split data into test train datasets\n",
    "    X_train, X_test, y_train, y_test = train_test_split(X, y, test_size=0.20, random_state=42)\n",
    "    N_train = len(X_train)\n",
    "    N_test = len(X_test)\n",
    "    row_dict['data_size'] = N_train\n",
    "    row_dict['noise_level'] = noise_level\n",
    "    # run algorithm and measure run time\n",
    "    start_run = timer()\n",
    "    b1, b0 = ordinary_least_squares(X_train, y_train, N_train)\n",
    "    end_run = timer()\n",
    "    run_time = end_run - start_run\n",
    "    row_dict['run_time'] = run_time\n",
    "    row_dict['b1'] = b1\n",
    "    row_dict['b0'] = b0\n",
    "#     display(Markdown('Run time: %s' % run_time))\n",
    "    # calculate error\n",
    "#     display(Markdown('**Analysis of :** ' + filename))\n",
    "#     display(Markdown('$y=%s+%sX$' %(b0,b1)))\n",
    "    y_pred_train = calculate_y_pred(X_train, b0, b1, N_train)\n",
    "    y_pred_test = calculate_y_pred(X_test, b0, b1, N_test)\n",
    "    rmse = calculate_rmse(X_test, y_test, y_pred_test, N_test)\n",
    "#     display(Markdown('$RMSE$: %s' % rmse))\n",
    "    r2 = calculate_r_squared(X_test, y_test, b0, b1, y_pred_test, np.mean(y_test), N_test)\n",
    "#     display(Markdown('$R^2$: %s' % r2))\n",
    "    row_dict['rmse'] = rmse\n",
    "    row_dict['r_squared'] = r2\n",
    "    \n",
    "    return row_dict"
   ]
  },
  {
   "cell_type": "code",
   "execution_count": 184,
   "metadata": {},
   "outputs": [],
   "source": [
    "# generate a list of rows that can then be converted to a pandas dataframe\n",
    "def generate_rows(files_created):\n",
    "    rows = []\n",
    "    for f in files_created:\n",
    "        if 'data_low' in f:\n",
    "            noise_level = 'low'\n",
    "            row_dict = conduct_empirical_analysis(f, noise_level)\n",
    "            rows.append(row_dict)\n",
    "        else:\n",
    "            noise_level = 'high'\n",
    "            row_dict = conduct_empirical_analysis(f, noise_level)\n",
    "            rows.append(row_dict)\n",
    "    return rows"
   ]
  },
  {
   "cell_type": "code",
   "execution_count": 185,
   "metadata": {},
   "outputs": [],
   "source": [
    "# create pandas dataframe\n",
    "rows = generate_rows(files_created)\n",
    "df = pd.DataFrame(rows)"
   ]
  },
  {
   "cell_type": "markdown",
   "metadata": {},
   "source": [
    "#### Plotting data"
   ]
  },
  {
   "cell_type": "code",
   "execution_count": 186,
   "metadata": {},
   "outputs": [],
   "source": [
    "df1 = df.iloc[0:6]\n",
    "df2 = df.iloc[6:12]"
   ]
  },
  {
   "cell_type": "code",
   "execution_count": 188,
   "metadata": {},
   "outputs": [
    {
     "data": {
      "image/png": "[encoded data removed]",
      "text/plain": [
       "<Figure size 432x288 with 1 Axes>"
      ]
     },
     "metadata": {
      "needs_background": "light"
     },
     "output_type": "display_data"
    }
   ],
   "source": [
    "ax = df1.plot(x='data_size', y='run_time', kind='line', color='cyan', label='low noise')\n",
    "df2.plot(ax=ax, x='data_size', y='run_time', kind='line', color='violet', label='high noise')\n",
    "plt.xlabel('Data Size')\n",
    "plt.ylabel('Run Time')\n",
    "plt.title('Run Time - High versus Low Noise Dataset')\n",
    "plt.legend()\n",
    "plt.show()"
   ]
  },
  {
   "cell_type": "code",
   "execution_count": 189,
   "metadata": {},
   "outputs": [
    {
     "data": {
      "image/png": "[encoded data removed]",
      "text/plain": [
       "<Figure size 432x288 with 1 Axes>"
      ]
     },
     "metadata": {
      "needs_background": "light"
     },
     "output_type": "display_data"
    }
   ],
   "source": [
    "s1 = [10*2**n for n in range(len(df1['data_size']))]\n",
    "s2 = [10*2**n for n in range(len(df2['data_size']))]\n",
    "ax = df1.plot(x='data_size', y='r_squared', kind='scatter', color='cyan', label='low noise', s=s1)\n",
    "df2.plot(ax=ax, x='data_size', y='r_squared', kind='scatter', color='violet', label='high noise', s=s2)\n",
    "plt.xlabel('Data Size')\n",
    "plt.ylabel('$R^2$')\n",
    "plt.title('$R^2$ - High versus Low Noise Dataset')\n",
    "plt.legend()\n",
    "plt.show()"
   ]
  },
  {
   "cell_type": "markdown",
   "metadata": {},
   "source": [
    "### Conclusions"
   ]
  },
  {
   "cell_type": "code",
   "execution_count": null,
   "metadata": {},
   "outputs": [],
   "source": []
  },
  {
   "cell_type": "markdown",
   "metadata": {},
   "source": [
    "### Empirical Plan"
   ]
  },
  {
   "cell_type": "markdown",
   "metadata": {},
   "source": [
    "To empirically analyze the ordinary least squares algorithm, the following steps will be executed:\n",
    "1. Create datasets of size $100$; $1,000$; $10,000$; $100,000$; $1,000,000$ with low noise, i.e., `noise=2` and $\\sigma=2$\n",
    "2. Create datasets of size $100$; $1,000$; $10,000$; $100,000$; $1,000,000$ with high noise, i.e., `noise=15` and $\\sigma=3$  \n",
    "3.  Split data into training data and test data, use input into the training data to generate $\\beta_0$ and $\\beta_1$ values and use the test data to generate $RMSE$ and $R^2$ values  \n",
    "4. For each dataset create a plot of the data with the predicted linear line to visually demonstrate how the predicted line fits the data\n",
    "5. For each dataset capture the $\\beta_0$, $\\beta_1$, $RMSE$, and $R^2$ in a pandas dataframe and utilize the dataframe to plot the values comparing:\n",
    "    * actual $\\beta_0$, $\\beta_1$ versus predicted as the size of the datasets increases  \n",
    "    * $RMSE$ values for low noise datasets versus high noise datasets as the size of the datasets increases  \n",
    "    * $R^2$ values for low noise datasets versus high noise datasets as the size of the datasset increases  \n",
    "6. Measure run time for each run of the alogrithm for each dataset using Python's `time` function and plot the results as the size of datasets increases  "
   ]
  },
  {
   "cell_type": "markdown",
   "metadata": {},
   "source": [
    "### Sources"
   ]
  },
  {
   "cell_type": "markdown",
   "metadata": {},
   "source": [
    "[1] Linear Regression, www.stat.yale.edu/Courses/1997-98/101/linreg.htm.  \n",
    "[2] Kenton, Will. “How the Least Squares Method Works.” Investopedia, Investopedia, 16 Sept. 2020, www.investopedia.com/terms/l/least-squares-method.asp#:~:text=The least squares method is a statistical procedure to find,the behavior of dependent variables.  \n",
    "[3] “What Is Linear Regression?” Statistics Solutions, www.statisticssolutions.com/what-is-linear-regression/.  \n",
    "[4] Raheem, Abdul Hafeez Abdul. “Linear Regression from Scratch.” Medium, Towards Data Science, 11 Nov. 2018, towardsdatascience.com/linear-regression-from-scratch-cd0dee067f72.\n",
    "[5] “Linear Regression from Scratch in Python.” Mubaris NK, mubaris.com/posts/linear-regression/.  \n",
    "[6] RMS Error, statweb.stanford.edu/~susan/courses/s60/split/node60.html.\n",
    "[7] Frost, Jim, et al. “How To Interpret R-Squared in Regression Analysis.” Statistics By Jim, 16 July 2020, statisticsbyjim.com/regression/interpret-r-squared-regression/.  \n",
    "[8] “What Are Mean Squared Error and Root Mean Squared Error?” Technical Information Library, 30 Nov. -1, www.vernier.com/til/1014.\n",
    "[9] CSSEGISandData. “CSSEGISandData/COVID-19.” GitHub, github.com/CSSEGISandData/COVID-19.\n"
   ]
  },
  {
   "cell_type": "code",
   "execution_count": null,
   "metadata": {},
   "outputs": [],
   "source": []
  }
 ],
 "metadata": {
  "kernelspec": {
   "display_name": "Python 3",
   "language": "python",
   "name": "python3"
  },
  "language_info": {
   "codemirror_mode": {
    "name": "ipython",
    "version": 3
   },
   "file_extension": ".py",
   "mimetype": "text/x-python",
   "name": "python",
   "nbconvert_exporter": "python",
   "pygments_lexer": "ipython3",
   "version": "3.8.3"
  }
 },
 "nbformat": 4,
 "nbformat_minor": 4
}
