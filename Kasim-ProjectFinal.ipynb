{
 "cells": [
  {
   "cell_type": "markdown",
   "metadata": {},
   "source": [
    "# Project Report\n",
    "by Samra Kasim"
   ]
  },
  {
   "cell_type": "markdown",
   "metadata": {},
   "source": [
    "## Evaluation of the Linear Regression Algorithm Utilizing Ordinary Least Squares Method"
   ]
  },
  {
   "cell_type": "markdown",
   "metadata": {},
   "source": [
    "### Introduction"
   ]
  },
  {
   "cell_type": "markdown",
   "metadata": {},
   "source": [
    "The Linear Regression algorithm is used for predictive analysis and it demonstrates the relationship (if it exists) between two variables using a linear equation (i.e., a straight line). [1] One variable is known as the dependent variable and the other as the independent variable. The algorithm utilizes the ordinary least squares method to create the line of best fit. The least square methods minimizes the sum of square errors. [2] Root Mean Square Error ($RMSE$) Root Mean Squared ($R^2$) calculations are used alongside Linear Regression to determine the accuracy of the model. The purpose of linear regression is to examine if a variable is a significant predictor of an outcome variable. Linear regression is often used in determining predictor strength, effect forecasting, and trend forecasting. [3]"
   ]
  },
  {
   "cell_type": "markdown",
   "metadata": {},
   "source": [
    "### The Algorithm"
   ]
  },
  {
   "cell_type": "markdown",
   "metadata": {},
   "source": [
    "The linear regression algorithm utlizes `numpy` arrays as the data structure to store and process data. The linear regression line has the equation in the form of\n",
    "\n",
    "$$ Y = \\beta_0 + \\beta_1X $$ \n",
    "\n",
    "where $X$ is the independent variable and $Y$ is the dependent variable. $\\beta1$ is the slope of the line and is also called the coefficient while $\\beta0$ is the $y$ intercept and is also called the bias coefficient.\n",
    "\n",
    "The algorithm utilizes the Ordinary Least Squares method for linear regression, which entails calculating the line of best fit by minimizing the sum of squares for each point. [5] The calculation of the sum of square errors for all points $n$ can be represented as the equation and the error is squared to account for negative error values \n",
    "\n",
    "$$ D = \\sum \\limits_{i=1}^{n} d_i^2 $$\n",
    "\n",
    "The errors above as represented by $D$ can be minimzed by the following equation to calculate the slope $\\beta_1$ and y intercept $\\beta_0$\n",
    "\n",
    "$$ \\beta_1 = \\frac {\\sum \\limits_{i=1}^{n}(x_i - \\bar{x})(y_i - \\bar{y})} {\\sum \\limits_{i=1}^{n} (x_i - \\bar{x})}$$\n",
    "\n",
    "$$ \\beta_0 = \\bar{y} - \\beta_1{x}$$\n",
    "\n",
    "Therefore, the algorithm is as follows:\n",
    "1. Calculate the mean of all $x$ values in the dataset.\n",
    "2. Calculate the mean of all $y$ values in the dataset.\n",
    "3. For every pair of $x$ and $y$ values, calculate the difference of every $x_i$ value from the mean. Then multiply that by the difference of every $y_i$ value and its difference from $\\bar{y}$ to calculate the numerator of the slope. Additionally, calculate a denominator by  taking the difference of every $x_i$ value from the mean and squaring to calcuate the denominator of the slope.  \n",
    "4. Calculate the $\\beta_1$ value by dividing the numerator and denominator for the previous step\n",
    "5. Calculate the $\\beta_0$ value by subtracting the multiplication of the slope from the previous step with $\\bar{x}$ and subtracting that value $\\bar{y}$\n",
    "\n",
    "The straight line $y = \\beta_0 + \\beta_1X$ generated from the above algorithm is the line of best for the given data points.\n",
    "\n",
    "To calculate the accuracy of the model, this project utilizes $RMSE$ and $R^2$. $RMSE$ as represented by the following equation and measures the residual, which is the difference between the predicted $\\hat{y_i}$ and actual $y_i$ values of a model. [6] The smaller the $RMSE$ value the closer the model is a git to the data. [8]\n",
    "\n",
    "$$RMSE = \\sqrt{ \\sum \\limits_{i=1}^{n} \\frac{1}{m} (\\hat{y_i} - y_i)^2}$$\n",
    "\n",
    "The $R^2$ error measure denotes the proportion of variance of a dependent variable that can be explained by the indepenent variable. The $SS_t$ value represents the unexplained variation and the $SS_r$ value represents total variation. The closer the $R^2$ is to $1$ the better fit the predicted model is to the data. [7]\n",
    "\n",
    " $$ SS_t = \\sum \\limits_{i=1}^{n} (y_i - \\bar{y})^2 $$\n",
    " $$ SS_r = \\sum \\limits_{i=1}^{n} (y_i - \\hat{y})^2 $$\n",
    " $$ R^2 = 1 - \\frac{SS_r}{SS_t}$$"
   ]
  },
  {
   "cell_type": "markdown",
   "metadata": {},
   "source": [
    "### Practical Applications"
   ]
  },
  {
   "cell_type": "markdown",
   "metadata": {},
   "source": [
    "Linear Regression has multiple practical applications, including:\n",
    "* **_Medical Data:_** Linear regression is used to calculate and forecast risk scores for individuals based on particular characteristics. For example, a dependent variable such as blood pressure can be explained by independent variables such as age and weight.[11] In another example, linear regression has been utilized to define the relationship between the distribution of wealth in a country and associated health outcomes.[10]\n",
    "* **_Voting:_** In Pierce County, WA, linear regression was used to determine the relationship between turnout and the percent of Hispanic adults in the population.[12] More recently, linear regression models were cited to show the relationship between education attainment and civic duty, which showed that higher rates of education (such as a college degree) result in higher rates of voting. [13]\n",
    "* **_Finance:_** Finance is another area where linear regression is commonly used. For example, linear regression models can be used to dtermine the impact of specific factors on the stock market closing price.[14]\n"
   ]
  },
  {
   "cell_type": "markdown",
   "metadata": {},
   "source": [
    "### The Algorithm Script"
   ]
  },
  {
   "cell_type": "code",
   "execution_count": 1,
   "metadata": {},
   "outputs": [],
   "source": [
    "import numpy as np"
   ]
  },
  {
   "cell_type": "code",
   "execution_count": 2,
   "metadata": {},
   "outputs": [],
   "source": [
    "def ordinary_least_squares(X, y, N):\n",
    "    # calculate mean of all X values\n",
    "    mean_x = np.mean(X)                                # O(n)\n",
    "    # calculate mean of all y values\n",
    "    mean_y = np.mean(y)                                # O(n)\n",
    "    numerator = 0                                      # O(1)\n",
    "    denominator = 0                                    # O(1)\n",
    "    # for each (x,y) par in the dataset\n",
    "    # minimize the errors\n",
    "    for i in range(N):                                 # O(n)\n",
    "        numerator += (X[i] - mean_x) * (y[i] - mean_y) # O(1)\n",
    "        denominator += (X[i] - mean_x) ** 2            # O(1)\n",
    "\n",
    "    # calculate the slope of the line\n",
    "    b1 = numerator/denominator                         # O(1)\n",
    "    # calculate the y intercept of the line\n",
    "    b0 = mean_y - (b1 * mean_x)                        # O(1)\n",
    "    \n",
    "    return b1, b0                                      # O(1)\n"
   ]
  },
  {
   "cell_type": "markdown",
   "metadata": {},
   "source": [
    "### Error Calculation"
   ]
  },
  {
   "cell_type": "code",
   "execution_count": 3,
   "metadata": {},
   "outputs": [],
   "source": [
    "# calculate every predicted y values given a b0, b1\n",
    "def calculate_y_pred(X, b0, b1, N):\n",
    "    y_pred = b0 + b1*X  # O(n) because uses numpy array multiplication\n",
    "    return y_pred       # O(1)"
   ]
  },
  {
   "cell_type": "code",
   "execution_count": 4,
   "metadata": {},
   "outputs": [],
   "source": [
    "# calculate the RMSE\n",
    "def calculate_rmse(X, y, y_pred, N):\n",
    "    rmse = 0                                          # O(1)\n",
    "    # for every (x,y) pair\n",
    "    for i in range(N):                                # O(n)\n",
    "        y_actual = y[i]                               # O(1)\n",
    "        # sum the residual of by taking the \n",
    "        # squared difference of actual y value\n",
    "        # from the predicted by value\n",
    "        rmse += (y_pred[i] - y_actual) ** 2           # O(1)\n",
    "    # calcualte the average rmse\n",
    "    rmse = rmse/N                                     # O(1)\n",
    "    # square root the average rmse\n",
    "    return np.sqrt(rmse)                              # O(1)"
   ]
  },
  {
   "cell_type": "code",
   "execution_count": 5,
   "metadata": {},
   "outputs": [],
   "source": [
    "# calculate r^2\n",
    "def calculate_r_squared(X, y, b0, b1, y_pred, mean_y, N):\n",
    "    ssr = 0                                           # O(1)\n",
    "    sst = 0                                           # O(1)\n",
    "    # for every (x,y) pair\n",
    "    for i in range(N):                                # O(n)\n",
    "        # calculate total variance\n",
    "        ssr += (y[i] - y_pred[i]) ** 2                # O(1)                \n",
    "        # calculate unexplained variance\n",
    "        sst += (y[i] - mean_y) ** 2                   # O(1)\n",
    "    # subtract from 1 to provide a ratio\n",
    "    # representing r^2\n",
    "    r_squared = 1 - (ssr/sst)                         # O(1)\n",
    "    return r_squared                                  # O(1)"
   ]
  },
  {
   "cell_type": "markdown",
   "metadata": {},
   "source": [
    "### Canonical Test Data Generation"
   ]
  },
  {
   "cell_type": "markdown",
   "metadata": {},
   "source": [
    "The following methods faciliate generation of data of various sizes and writing and reading data to pickle files. The data utilizes a linear equation with parameterized $\\beta_0$, $\\beta_1$, and noise values that can be manipulated to enhance the variability of the datasets. In addition, gaussian randomization with parameterized $\\mu$ and $\\sigma$ values are also added to the linear equation to add variability."
   ]
  },
  {
   "cell_type": "code",
   "execution_count": 6,
   "metadata": {},
   "outputs": [],
   "source": [
    "import pickle as pk\n",
    "from random import randint\n",
    "import random\n",
    "from IPython.display import display, Markdown, Latex"
   ]
  },
  {
   "cell_type": "code",
   "execution_count": 7,
   "metadata": {},
   "outputs": [],
   "source": [
    "# linear function to generate y values from given X values\n",
    "# param X represents a list of x values\n",
    "# param noise represents the level of noise to add to the linear equation\n",
    "def linear_function(X, noise, b1, b0, mu, sigma):\n",
    "    # to provide variability in the generated random set\n",
    "    # gaussian randomization is added to the linear equation\n",
    "    # noise is added to give added variability\n",
    "    gaussian_randomization = np.random.normal(mu, sigma, len(X))    \n",
    "    y = (b1*X) + b0 + (gaussian_randomization*noise)\n",
    "    return y # list of y values"
   ]
  },
  {
   "cell_type": "code",
   "execution_count": 8,
   "metadata": {},
   "outputs": [],
   "source": [
    "# generate X and y values and a data dict {X:y} for storage\n",
    "def generate_data_values(array_size, noise, stop, b1, b0, mu, sigma):\n",
    "    # generate x values based on the array_size provided\n",
    "    x_list = np.linspace(1.0, stop, num=array_size, endpoint=False, dtype=float)\n",
    "    # convert x values to an numpy array\n",
    "    X = np.array(x_list)\n",
    "    y = linear_function(X, noise, b1, b0, mu, sigma)\n",
    "    data = dict(zip(X, y)) # create a dictionary {X:Y} for pickle storage\n",
    "    return data"
   ]
  },
  {
   "cell_type": "code",
   "execution_count": 9,
   "metadata": {},
   "outputs": [],
   "source": [
    "# pickling data \n",
    "def generate_canonical_test_files(files_created, array_size, noise=.5, stop=100.0, b1=2, b0=2, mu=0, sigma=2, noise_type='low_'):\n",
    "    # given a list of array size for each of the array size\n",
    "    # generate a file and save it to disk\n",
    "    for i in range(len(array_size)):\n",
    "        filename = 'data_'+ noise_type + str(array_size[i])\n",
    "        print(filename)\n",
    "        files_created.append(filename)\n",
    "        outfile = open(filename, 'wb')\n",
    "        # generate values\n",
    "        data = generate_data_values(array_size[i], noise, stop, b1, b0, mu, sigma)\n",
    "        # write values to a file\n",
    "        pk.dump(data, outfile)\n",
    "        outfile.close()\n",
    "    return files_created"
   ]
  },
  {
   "cell_type": "code",
   "execution_count": 10,
   "metadata": {},
   "outputs": [],
   "source": [
    "# unpickling data\n",
    "def read_data_file(filename):\n",
    "    # read a given file on disk and load it into memory\n",
    "    infile = open(filename, 'rb')\n",
    "    data = pk.load(infile)\n",
    "    infile.close()\n",
    "    return data # returns a dictionary in the form {X:y}"
   ]
  },
  {
   "cell_type": "code",
   "execution_count": 11,
   "metadata": {},
   "outputs": [],
   "source": [
    "# parse loaded Pickle dictionary into X, Y lists\n",
    "def parse_data_dict(adict):\n",
    "    X, y = zip(*adict.items())\n",
    "    return np.array(X), np.array(y) # return numpy arrays\n",
    "        "
   ]
  },
  {
   "cell_type": "markdown",
   "metadata": {},
   "source": [
    "#### Algorithm Validation\n"
   ]
  },
  {
   "cell_type": "code",
   "execution_count": 12,
   "metadata": {},
   "outputs": [
    {
     "data": {
      "text/markdown": [
       "**Validating algorithm...**"
      ],
      "text/plain": [
       "<IPython.core.display.Markdown object>"
      ]
     },
     "metadata": {},
     "output_type": "display_data"
    },
    {
     "name": "stdout",
     "output_type": "stream",
     "text": [
      "ordinary least squares algorithm is correct\n",
      "predicted y values are correct\n",
      "r^2 and rmse values are correct\n"
     ]
    }
   ],
   "source": [
    "def validate_algorithm():\n",
    "    x_list = np.linspace(1.0, stop=100, num=10, endpoint=False, dtype=float)\n",
    "    X = np.array(x_list)\n",
    "    y = linear_function(X, noise=0, b1=3.2, b0=1.7, mu=0, sigma=2)\n",
    "    N = 10\n",
    "    b1, b0 = ordinary_least_squares(X, y, N)\n",
    "    y_pred = calculate_y_pred(X, b0, b1, N)\n",
    "    rmse = calculate_rmse(X, y, y_pred, N)\n",
    "    r2 = calculate_r_squared(X, y, b0, b1, y_pred, np.mean(y), N)\n",
    "    display(Markdown('**Validating algorithm...**' ))\n",
    "    if round(b1,3) == 3.2 and round(b0,3) == 1.7:\n",
    "        print('ordinary least squares algorithm is correct')\n",
    "    if y_pred.all() == y.all():\n",
    "        print('predicted y values are correct')\n",
    "    if round(r2,3) == 1.0 and round(rmse, 3) == 0.0:\n",
    "        print('r^2 and rmse values are correct')\n",
    "\n",
    "validate_algorithm()\n"
   ]
  },
  {
   "cell_type": "markdown",
   "metadata": {},
   "source": [
    "### Algorithm Demonstration"
   ]
  },
  {
   "cell_type": "markdown",
   "metadata": {},
   "source": [
    "#### Overview"
   ]
  },
  {
   "cell_type": "markdown",
   "metadata": {},
   "source": [
    "With the spread of the extremely contagious COVID-19 virus around the global, this project presented a timely opportunity to utilize the COVID-19 global timeseries data made available by the Center for Systems Science and Engineering at Johns Hopkins University.[9]\n",
    "\n",
    "If allowed to proliferate unabated, the COVID-19 infection rate follows an exponential growth rate as seen in Figures 1 and 2 below. For the purposes of algorithm demonstration, we will focus on India and South Dakota, USA. The two graphs below illustrate the number of cases per day since day 0 (i.e., the day the first case was detected) to November 10, 2020. Due to global lockdown in the initial phase of the pandemic, these two regions managed to suppress the infection rates. However, in both regions, once the lockdown was lifted, not much effort was made to put in place infection mitigation efforts. As a result, the rates of infection post-lockdown followed a linear to expoentntial growth rate.\n",
    "\n",
    "For the purposes of this demonstration, since India lifted its COVID-19 lockdown in June, 2020, the data utlized is from Day 180 onwards. While for South Dakota, the data utilized is for the last 60 days when South Dakota had one of the highest rates of infection in the USA.\n",
    "\n",
    "In the analysis, the COVID data is divided into a test and training dataset based on an 80/20 split. The dependent variable is the number of people infected and the independent variable is the day since the first infection was detected in the region. The test data is then utilized to determine the $R^2$ value of the model and determine how well the model did in predicting outcomes."
   ]
  },
  {
   "cell_type": "code",
   "execution_count": 13,
   "metadata": {},
   "outputs": [],
   "source": [
    "import pandas as pd\n",
    "import matplotlib.pyplot as plt\n",
    "from sklearn.model_selection import train_test_split\n",
    "from timeit import default_timer as timer"
   ]
  },
  {
   "cell_type": "code",
   "execution_count": 14,
   "metadata": {},
   "outputs": [
    {
     "data": {
      "text/plain": [
       "<matplotlib.legend.Legend at 0x123f86ee0>"
      ]
     },
     "execution_count": 14,
     "metadata": {},
     "output_type": "execute_result"
    },
    {
     "data": {
      "image/png": "[encoded data removed]",
      "text/plain": [
       "<Figure size 432x288 with 1 Axes>"
      ]
     },
     "metadata": {
      "needs_background": "light"
     },
     "output_type": "display_data"
    }
   ],
   "source": [
    "all_india = pd.read_csv('india_covid_timeseries.csv')\n",
    "# plotting points\n",
    "plt.scatter(all_india['day'], all_india['total_infected'], label='India', color='orangered', s=4)\n",
    "# add x-label\n",
    "plt.xlabel('Day')\n",
    "# add y-label\n",
    "plt.ylabel('Total Infected')\n",
    "# plot title\n",
    "plt.title('Fig 1:\\n COVID-19 Infection Rates in India from Day 0')\n",
    "# show legend\n",
    "plt.legend()\n",
    "#show graph"
   ]
  },
  {
   "cell_type": "code",
   "execution_count": 15,
   "metadata": {},
   "outputs": [
    {
     "data": {
      "image/png": "[encoded data removed]",
      "text/plain": [
       "<Figure size 432x288 with 1 Axes>"
      ]
     },
     "metadata": {
      "needs_background": "light"
     },
     "output_type": "display_data"
    }
   ],
   "source": [
    "all_sd = pd.read_csv('sd_covid_timeseries.csv')\n",
    "# plotting points\n",
    "plt.scatter(all_sd['day'], all_sd['total_infected'], label='South Dakota', color='dodgerblue', s=2)\n",
    "# add x-label\n",
    "plt.xlabel('Day')\n",
    "# add y-label\n",
    "plt.ylabel('Total Infected')\n",
    "# plot title\n",
    "plt.title('Fig 2:\\n COVID-19 Infection Rates in South Dakota, USA from Day 0')\n",
    "# show legend\n",
    "plt.legend()\n",
    "#show graph\n",
    "plt.show()"
   ]
  },
  {
   "cell_type": "code",
   "execution_count": 16,
   "metadata": {},
   "outputs": [],
   "source": [
    "def algorithm_demo_with_covid_data(df):\n",
    "    X = np.asarray(df['day'])\n",
    "    y = np.asarray(df['total_infected'])\n",
    "    X_train, X_test, y_train, y_test = train_test_split(X, y, test_size=0.20, random_state=42)\n",
    "    N_train = len(X_train)\n",
    "    N_test = len(X_test)\n",
    "    # run algorithm and measure run time\n",
    "    start_run = timer()\n",
    "    b1, b0 = ordinary_least_squares(X_train, y_train, N_train)\n",
    "    end_run = timer()\n",
    "    run_time = end_run - start_run\n",
    "    display(Markdown('Run time: %s' % run_time))\n",
    "    # calculate error\n",
    "    display(Markdown('**Analysis** '))\n",
    "    display(Markdown('$y=%s+%sX$' %(b0,b1)))\n",
    "    y_pred_train = calculate_y_pred(X_train, b0, b1, N_train)\n",
    "    y_pred_test = calculate_y_pred(X_test, b0, b1, N_test)\n",
    "    rmse = calculate_rmse(X_test, y_test, y_pred_test, N_test)\n",
    "    display(Markdown('$RMSE$: %s' % rmse))\n",
    "    r2 = calculate_r_squared(X_test, y_test, b0, b1, y_pred_test, np.mean(y_test), N_test)\n",
    "    display(Markdown('$R^2$: %s' % r2))\n",
    "    return X_train, y_train, X_test, y_test, y_pred_train"
   ]
  },
  {
   "cell_type": "code",
   "execution_count": 17,
   "metadata": {},
   "outputs": [],
   "source": [
    "def draw_demo_covid_graph(plt, X_train, y_train, X_test, y_test, y_pred_train, title):\n",
    "    # plotting points\n",
    "    plt.scatter(X_train, y_train, label='training data', color='dodgerblue', s=2)\n",
    "    plt.scatter(X_test, y_test, label='test data', color='orangered', s=4)\n",
    "    # plotting predicted line\n",
    "    plt.plot(X_train, y_pred_train, color='darkslategrey', label='predicted')\n",
    "    # add x-label\n",
    "    plt.xlabel('Day')\n",
    "    # add y-label\n",
    "    plt.ylabel('Total Infected')\n",
    "    # plot title\n",
    "    plt.title(title)\n",
    "    # show legend\n",
    "    plt.legend()\n",
    "    #show graph\n",
    "    plt.show()"
   ]
  },
  {
   "cell_type": "markdown",
   "metadata": {},
   "source": [
    "#### Analysis of COVID-19 Data"
   ]
  },
  {
   "cell_type": "markdown",
   "metadata": {},
   "source": [
    "The post-lockdown data was used in the linear regression analysis below using the Ordinary Least Squares algorithm. The analysis is below, but the key result is the $R^2$ value which demonstrates that our model had a high rate (99.4%) rate of accurately predicting variables from the test dataset after being trained only on 80% of the dataset. Figure 3 below demonstrates that the predicted linear regression line tracks closely to the values in the dataset.\n",
    "\n",
    "Alternatively, it is also not surprising that the $R^2$ value for South Dakota in Figure 4 was lower at 95.6% since through visual analysis of the graph it can be seen that dataset values do not track as closely to the predicted linear regression line.\n",
    "\n",
    "However, both runs of the model do successfully demonstrate that there is a linear relationship between the number of days since day 0 and the total number of people infected in these states. Although, visually it appears that the curve is flatting in India based on the most recent data while the curve in South Dakota is taking a more exponential growth shape, which is alarming news for South Dakota."
   ]
  },
  {
   "cell_type": "code",
   "execution_count": 18,
   "metadata": {},
   "outputs": [
    {
     "data": {
      "text/markdown": [
       "Run time: 0.0013428779999991036"
      ],
      "text/plain": [
       "<IPython.core.display.Markdown object>"
      ]
     },
     "metadata": {},
     "output_type": "display_data"
    },
    {
     "data": {
      "text/markdown": [
       "**Analysis** "
      ],
      "text/plain": [
       "<IPython.core.display.Markdown object>"
      ]
     },
     "metadata": {},
     "output_type": "display_data"
    },
    {
     "data": {
      "text/markdown": [
       "$y=-11994991.609318536+74120.09589205543X$"
      ],
      "text/plain": [
       "<IPython.core.display.Markdown object>"
      ]
     },
     "metadata": {},
     "output_type": "display_data"
    },
    {
     "data": {
      "text/markdown": [
       "$RMSE$: 190158.63182278784"
      ],
      "text/plain": [
       "<IPython.core.display.Markdown object>"
      ]
     },
     "metadata": {},
     "output_type": "display_data"
    },
    {
     "data": {
      "text/markdown": [
       "$R^2$: 0.9938102898578083"
      ],
      "text/plain": [
       "<IPython.core.display.Markdown object>"
      ]
     },
     "metadata": {},
     "output_type": "display_data"
    }
   ],
   "source": [
    "cdf = pd.read_csv('india_covid_timeseries.csv')\n",
    "post_opening = cdf.iloc[180:]\n",
    "X_train_in, y_train_in, X_test_in, y_test_in, y_pred_train_in = algorithm_demo_with_covid_data(post_opening)"
   ]
  },
  {
   "cell_type": "code",
   "execution_count": 19,
   "metadata": {},
   "outputs": [
    {
     "data": {
      "image/png": "[encoded data removed]",
      "text/plain": [
       "<Figure size 432x288 with 1 Axes>"
      ]
     },
     "metadata": {
      "needs_background": "light"
     },
     "output_type": "display_data"
    }
   ],
   "source": [
    "draw_demo_covid_graph(plt,X_train_in, y_train_in, X_test_in, y_test_in, y_pred_train_in, 'Fig 3:\\n COVID-19 Infection Data for India Post-Lockdown Opening: \\n Actual vs Predicted')"
   ]
  },
  {
   "cell_type": "code",
   "execution_count": 20,
   "metadata": {},
   "outputs": [
    {
     "data": {
      "text/markdown": [
       "Run time: 0.00043789200000077244"
      ],
      "text/plain": [
       "<IPython.core.display.Markdown object>"
      ]
     },
     "metadata": {},
     "output_type": "display_data"
    },
    {
     "data": {
      "text/markdown": [
       "**Analysis** "
      ],
      "text/plain": [
       "<IPython.core.display.Markdown object>"
      ]
     },
     "metadata": {},
     "output_type": "display_data"
    },
    {
     "data": {
      "text/markdown": [
       "$y=-110759.76141570318+662.4130694848332X$"
      ],
      "text/plain": [
       "<IPython.core.display.Markdown object>"
      ]
     },
     "metadata": {},
     "output_type": "display_data"
    },
    {
     "data": {
      "text/markdown": [
       "$RMSE$: 2682.1488755130717"
      ],
      "text/plain": [
       "<IPython.core.display.Markdown object>"
      ]
     },
     "metadata": {},
     "output_type": "display_data"
    },
    {
     "data": {
      "text/markdown": [
       "$R^2$: 0.9560958135850199"
      ],
      "text/plain": [
       "<IPython.core.display.Markdown object>"
      ]
     },
     "metadata": {},
     "output_type": "display_data"
    }
   ],
   "source": [
    "sd_df = pd.read_csv('sd_covid_timeseries.csv').iloc[-60:]\n",
    "X_train_nd, y_train_nd, X_test_nd, y_test_nd, y_pred_train_nd = algorithm_demo_with_covid_data(sd_df)"
   ]
  },
  {
   "cell_type": "code",
   "execution_count": 21,
   "metadata": {},
   "outputs": [
    {
     "data": {
      "image/png": "[encoded data removed]",
      "text/plain": [
       "<Figure size 432x288 with 1 Axes>"
      ]
     },
     "metadata": {
      "needs_background": "light"
     },
     "output_type": "display_data"
    }
   ],
   "source": [
    "draw_demo_covid_graph(plt, X_train_nd, y_train_nd, X_test_nd, y_test_nd, y_pred_train_nd, 'Fig 4:\\n Last 60 Day Data for COVID-19 Infection Data for South Dakota: \\n Actual vs Predicted')"
   ]
  },
  {
   "cell_type": "markdown",
   "metadata": {},
   "source": [
    "### Theoretical Analysis"
   ]
  },
  {
   "cell_type": "markdown",
   "metadata": {},
   "source": [
    "The following provides the time and space complexity of the ordinary least squares algorithm. Refer to the above cells for details on algorithm complexity  \n",
    "\n",
    "**Worst case:**  There are $N$ elements in each $X$ and $y$ arrays. The algorithm runs three loops N times:   \n",
    "  1) calculate the mean of all X values   \n",
    "  2) calculate the mean of all y values   \n",
    "  3) main loop. Together, they combine to produce a worst case complexity of $\\mathcal{O}(n+n+n)$, which utilizing asymptotic analysis is $\\mathcal{O}(n)$.    \n",
    "**Average case:** Since each of the three loops have to be run no matter the size or nature of the elements in the array, the average case complexity is also $\\mathcal{O}(n)$    \n",
    "**Space complexity:** The $X$, $y$ arrays each have a space complexity of $\\mathcal{O}(n)$. The other variables $N$, `mean_x`, `mean_y`, `numerator`, `denominator`, `b1`, and `b0` all hold single values and have space complexity of $\\mathcal{O}(1)$ each. Together the space complexity for the algorithm is $\\mathcal{O}(n+n+7)$ and with asymptotic analysis it is $\\mathcal{O}(n)$"
   ]
  },
  {
   "cell_type": "markdown",
   "metadata": {},
   "source": [
    "### Empirical Analysis"
   ]
  },
  {
   "cell_type": "code",
   "execution_count": 31,
   "metadata": {},
   "outputs": [
    {
     "data": {
      "text/markdown": [
       "**Generating low noise canonical files:**"
      ],
      "text/plain": [
       "<IPython.core.display.Markdown object>"
      ]
     },
     "metadata": {},
     "output_type": "display_data"
    },
    {
     "name": "stdout",
     "output_type": "stream",
     "text": [
      "data_low_100\n",
      "data_low_1000\n",
      "data_low_10000\n",
      "data_low_100000\n",
      "data_low_1000000\n",
      "data_low_10000000\n"
     ]
    },
    {
     "data": {
      "text/markdown": [
       "**Generating high noise canonical files:**"
      ],
      "text/plain": [
       "<IPython.core.display.Markdown object>"
      ]
     },
     "metadata": {},
     "output_type": "display_data"
    },
    {
     "name": "stdout",
     "output_type": "stream",
     "text": [
      "data_high_100\n",
      "data_high_1000\n",
      "data_high_10000\n",
      "data_high_100000\n",
      "data_high_1000000\n",
      "data_high_10000000\n"
     ]
    },
    {
     "data": {
      "text/plain": [
       "['data_low_100',\n",
       " 'data_low_1000',\n",
       " 'data_low_10000',\n",
       " 'data_low_100000',\n",
       " 'data_low_1000000',\n",
       " 'data_low_10000000',\n",
       " 'data_high_100',\n",
       " 'data_high_1000',\n",
       " 'data_high_10000',\n",
       " 'data_high_100000',\n",
       " 'data_high_1000000',\n",
       " 'data_high_10000000']"
      ]
     },
     "execution_count": 31,
     "metadata": {},
     "output_type": "execute_result"
    }
   ],
   "source": [
    "# generate low noise test files of the following sizes\n",
    "files_created = []\n",
    "array_size=[100,1000,10000,100000, 1000000, 10000000]\n",
    "display(Markdown('**Generating low noise canonical files:**'))\n",
    "generate_canonical_test_files(files_created, array_size, noise=2, stop=500, b1=3, b0=5, noise_type='low_')\n",
    "# generate high noise test files of the following sizes\n",
    "display(Markdown('**Generating high noise canonical files:**'))\n",
    "generate_canonical_test_files(files_created, array_size, noise=15, stop=500, mu=0, sigma=3, noise_type='high_')"
   ]
  },
  {
   "cell_type": "code",
   "execution_count": 32,
   "metadata": {},
   "outputs": [],
   "source": [
    "# conduct empirical analysis on the data row by row\n",
    "# return result as a dict, which represents each row in a pandas dataframe\n",
    "def conduct_empirical_analysis(filename, noise_level, runs=2):\n",
    "    row_dict = {}\n",
    "    # read the following file and load data in memory\n",
    "    data = read_data_file(filename)\n",
    "    X, y = parse_data_dict(data)\n",
    "    # split data into test train datasets\n",
    "    X_train, X_test, y_train, y_test = train_test_split(X, y, test_size=0.20, random_state=42)\n",
    "    N_train = len(X_train)\n",
    "    N_test = len(X_test)\n",
    "    row_dict['data_size'] = N_train\n",
    "    row_dict['noise_level'] = noise_level\n",
    "    # run algorithm and measure run time\n",
    "    b1 = b0 = 0.0\n",
    "    start_run = timer()\n",
    "    for _ in range(0, runs):\n",
    "        b1, b0 = ordinary_least_squares(X_train, y_train, N_train)\n",
    "    end_run = timer()\n",
    "    run_time = (end_run - start_run)/runs\n",
    "    row_dict['run_time'] = run_time\n",
    "    row_dict['b1'] = b1\n",
    "    row_dict['b0'] = b0\n",
    "    # calculate error\n",
    "    y_pred_train = calculate_y_pred(X_train, b0, b1, N_train)\n",
    "    y_pred_test = calculate_y_pred(X_test, b0, b1, N_test)\n",
    "    rmse = calculate_rmse(X_test, y_test, y_pred_test, N_test)\n",
    "    r2 = calculate_r_squared(X_test, y_test, b0, b1, y_pred_test, np.mean(y_test), N_test)\n",
    "    row_dict['rmse'] = rmse\n",
    "    row_dict['r_squared'] = r2\n",
    "    \n",
    "    return row_dict"
   ]
  },
  {
   "cell_type": "code",
   "execution_count": 33,
   "metadata": {},
   "outputs": [],
   "source": [
    "# generate a list of rows that can then be converted to a pandas dataframe\n",
    "def generate_rows(files_created):\n",
    "    rows = []\n",
    "    for f in files_created:\n",
    "        if 'data_low' in f:\n",
    "            noise_level = 'low'\n",
    "            row_dict = conduct_empirical_analysis(f, noise_level, runs=2)\n",
    "            rows.append(row_dict)\n",
    "        else:\n",
    "            noise_level = 'high'\n",
    "            row_dict = conduct_empirical_analysis(f, noise_level, runs=2)\n",
    "            rows.append(row_dict)\n",
    "    return rows"
   ]
  },
  {
   "cell_type": "code",
   "execution_count": 34,
   "metadata": {},
   "outputs": [],
   "source": [
    "# create pandas dataframe\n",
    "rows = generate_rows(files_created)\n",
    "df = pd.DataFrame(rows)"
   ]
  },
  {
   "cell_type": "code",
   "execution_count": 35,
   "metadata": {},
   "outputs": [
    {
     "data": {
      "text/html": [
       "<div>\n",
       "<style scoped>\n",
       "    .dataframe tbody tr th:only-of-type {\n",
       "        vertical-align: middle;\n",
       "    }\n",
       "\n",
       "    .dataframe tbody tr th {\n",
       "        vertical-align: top;\n",
       "    }\n",
       "\n",
       "    .dataframe thead th {\n",
       "        text-align: right;\n",
       "    }\n",
       "</style>\n",
       "<table border=\"1\" class=\"dataframe\">\n",
       "  <thead>\n",
       "    <tr style=\"text-align: right;\">\n",
       "      <th></th>\n",
       "      <th>data_size</th>\n",
       "      <th>noise_level</th>\n",
       "      <th>run_time</th>\n",
       "      <th>b1</th>\n",
       "      <th>b0</th>\n",
       "      <th>rmse</th>\n",
       "      <th>r_squared</th>\n",
       "    </tr>\n",
       "  </thead>\n",
       "  <tbody>\n",
       "    <tr>\n",
       "      <th>0</th>\n",
       "      <td>80</td>\n",
       "      <td>low</td>\n",
       "      <td>0.000246</td>\n",
       "      <td>2.998635</td>\n",
       "      <td>5.673541</td>\n",
       "      <td>4.594293</td>\n",
       "      <td>0.999882</td>\n",
       "    </tr>\n",
       "    <tr>\n",
       "      <th>1</th>\n",
       "      <td>800</td>\n",
       "      <td>low</td>\n",
       "      <td>0.001063</td>\n",
       "      <td>2.999436</td>\n",
       "      <td>4.889479</td>\n",
       "      <td>4.341505</td>\n",
       "      <td>0.999897</td>\n",
       "    </tr>\n",
       "    <tr>\n",
       "      <th>2</th>\n",
       "      <td>8000</td>\n",
       "      <td>low</td>\n",
       "      <td>0.009790</td>\n",
       "      <td>3.000521</td>\n",
       "      <td>4.866531</td>\n",
       "      <td>3.965707</td>\n",
       "      <td>0.999916</td>\n",
       "    </tr>\n",
       "    <tr>\n",
       "      <th>3</th>\n",
       "      <td>80000</td>\n",
       "      <td>low</td>\n",
       "      <td>0.096811</td>\n",
       "      <td>2.999971</td>\n",
       "      <td>5.010309</td>\n",
       "      <td>3.977311</td>\n",
       "      <td>0.999915</td>\n",
       "    </tr>\n",
       "    <tr>\n",
       "      <th>4</th>\n",
       "      <td>800000</td>\n",
       "      <td>low</td>\n",
       "      <td>1.045270</td>\n",
       "      <td>3.000011</td>\n",
       "      <td>4.992365</td>\n",
       "      <td>3.991224</td>\n",
       "      <td>0.999915</td>\n",
       "    </tr>\n",
       "    <tr>\n",
       "      <th>5</th>\n",
       "      <td>8000000</td>\n",
       "      <td>low</td>\n",
       "      <td>10.233863</td>\n",
       "      <td>2.999994</td>\n",
       "      <td>5.001668</td>\n",
       "      <td>3.999561</td>\n",
       "      <td>0.999914</td>\n",
       "    </tr>\n",
       "    <tr>\n",
       "      <th>6</th>\n",
       "      <td>80</td>\n",
       "      <td>high</td>\n",
       "      <td>0.000149</td>\n",
       "      <td>2.041755</td>\n",
       "      <td>-22.009126</td>\n",
       "      <td>57.016877</td>\n",
       "      <td>0.958271</td>\n",
       "    </tr>\n",
       "    <tr>\n",
       "      <th>7</th>\n",
       "      <td>800</td>\n",
       "      <td>high</td>\n",
       "      <td>0.001351</td>\n",
       "      <td>1.988979</td>\n",
       "      <td>5.727104</td>\n",
       "      <td>47.292569</td>\n",
       "      <td>0.973232</td>\n",
       "    </tr>\n",
       "    <tr>\n",
       "      <th>8</th>\n",
       "      <td>8000</td>\n",
       "      <td>high</td>\n",
       "      <td>0.010038</td>\n",
       "      <td>2.000040</td>\n",
       "      <td>1.758244</td>\n",
       "      <td>46.603567</td>\n",
       "      <td>0.974568</td>\n",
       "    </tr>\n",
       "    <tr>\n",
       "      <th>9</th>\n",
       "      <td>80000</td>\n",
       "      <td>high</td>\n",
       "      <td>0.099242</td>\n",
       "      <td>1.999783</td>\n",
       "      <td>2.004720</td>\n",
       "      <td>45.223993</td>\n",
       "      <td>0.975938</td>\n",
       "    </tr>\n",
       "    <tr>\n",
       "      <th>10</th>\n",
       "      <td>800000</td>\n",
       "      <td>high</td>\n",
       "      <td>0.998634</td>\n",
       "      <td>1.999893</td>\n",
       "      <td>2.012016</td>\n",
       "      <td>45.104564</td>\n",
       "      <td>0.976081</td>\n",
       "    </tr>\n",
       "    <tr>\n",
       "      <th>11</th>\n",
       "      <td>8000000</td>\n",
       "      <td>high</td>\n",
       "      <td>10.283501</td>\n",
       "      <td>1.999924</td>\n",
       "      <td>2.023470</td>\n",
       "      <td>45.020327</td>\n",
       "      <td>0.976176</td>\n",
       "    </tr>\n",
       "  </tbody>\n",
       "</table>\n",
       "</div>"
      ],
      "text/plain": [
       "    data_size noise_level   run_time        b1         b0       rmse  \\\n",
       "0          80         low   0.000246  2.998635   5.673541   4.594293   \n",
       "1         800         low   0.001063  2.999436   4.889479   4.341505   \n",
       "2        8000         low   0.009790  3.000521   4.866531   3.965707   \n",
       "3       80000         low   0.096811  2.999971   5.010309   3.977311   \n",
       "4      800000         low   1.045270  3.000011   4.992365   3.991224   \n",
       "5     8000000         low  10.233863  2.999994   5.001668   3.999561   \n",
       "6          80        high   0.000149  2.041755 -22.009126  57.016877   \n",
       "7         800        high   0.001351  1.988979   5.727104  47.292569   \n",
       "8        8000        high   0.010038  2.000040   1.758244  46.603567   \n",
       "9       80000        high   0.099242  1.999783   2.004720  45.223993   \n",
       "10     800000        high   0.998634  1.999893   2.012016  45.104564   \n",
       "11    8000000        high  10.283501  1.999924   2.023470  45.020327   \n",
       "\n",
       "    r_squared  \n",
       "0    0.999882  \n",
       "1    0.999897  \n",
       "2    0.999916  \n",
       "3    0.999915  \n",
       "4    0.999915  \n",
       "5    0.999914  \n",
       "6    0.958271  \n",
       "7    0.973232  \n",
       "8    0.974568  \n",
       "9    0.975938  \n",
       "10   0.976081  \n",
       "11   0.976176  "
      ]
     },
     "execution_count": 35,
     "metadata": {},
     "output_type": "execute_result"
    }
   ],
   "source": [
    "df"
   ]
  },
  {
   "cell_type": "markdown",
   "metadata": {},
   "source": [
    "#### Plotting data"
   ]
  },
  {
   "cell_type": "code",
   "execution_count": 36,
   "metadata": {},
   "outputs": [],
   "source": [
    "df1 = df.iloc[0:6]\n",
    "df2 = df.iloc[6:12]"
   ]
  },
  {
   "cell_type": "code",
   "execution_count": 37,
   "metadata": {},
   "outputs": [
    {
     "data": {
      "image/png": "[encoded data removed]",
      "text/plain": [
       "<Figure size 432x288 with 1 Axes>"
      ]
     },
     "metadata": {
      "needs_background": "light"
     },
     "output_type": "display_data"
    }
   ],
   "source": [
    "ax = df1.plot(x='data_size', y='run_time', kind='scatter', color='cyan', label='low noise', s=20)\n",
    "df2.plot(ax=ax, x='data_size', y='run_time', kind='scatter', color='violet', label='high noise', s=20)\n",
    "plt.xlabel('Data Size')\n",
    "plt.ylabel('Run Time')\n",
    "plt.title('Fig 5:\\n Run Time in Seconds - High versus Low Noise Dataset')\n",
    "plt.legend()\n",
    "plt.show()"
   ]
  },
  {
   "cell_type": "code",
   "execution_count": 38,
   "metadata": {},
   "outputs": [
    {
     "data": {
      "image/png": "[encoded data removed]",
      "text/plain": [
       "<Figure size 432x288 with 1 Axes>"
      ]
     },
     "metadata": {
      "needs_background": "light"
     },
     "output_type": "display_data"
    }
   ],
   "source": [
    "s1 = [40*df1['run_time']]\n",
    "s2 = [40*df2['run_time']]\n",
    "ax = df1.plot(x='data_size', y='r_squared', kind='scatter', color='cyan', label='low noise', s=s1)\n",
    "df2.plot(ax=ax, x='data_size', y='r_squared', kind='scatter', color='violet', label='high noise', s=s2)\n",
    "plt.xlabel('Data Size')\n",
    "plt.ylabel('$R^2$')\n",
    "plt.title('Fig 6:\\n $R^2$ - High versus Low Noise Dataset')\n",
    "plt.legend()\n",
    "plt.show()"
   ]
  },
  {
   "cell_type": "markdown",
   "metadata": {},
   "source": [
    "### Conclusions"
   ]
  },
  {
   "cell_type": "markdown",
   "metadata": {},
   "source": [
    "**Run Time**  \n",
    "\n",
    "As the Run Time plot above demonstrates, the run time of the algorithm increases as the size of data increases. The data size to run time relationship follows a linear relationship, which tracks with the theoretical complexity of the algorithm as $\\mathcal{O}(n)$ since a `for` loop requires that the analysis be run on each $x$ and $y$ value in the dataset. For the purposes of this analysis, the algorithm was run 10 times and the run time was averaged across the runs to minimize error. During the testing phase, the run times for high noise dataset versus the low noise dataset tracked closely except for the dataset of size 8 million, where the run times differed by .443 seconds (see Figure 5). This is likely due to the slowness of processing of the operating system as per the theoretical analysis, the level of noise should not impact the run time. In practical application, however, the mathematical computations where $x$ and $y$ values were subtracted from the mean varied resulting in the differences between the high noise and low noise datasets. \n",
    "\n",
    "**$R^2$ Values**\n",
    "\n",
    "In Figure 6, The second plot above demonstrates the $R^2$ values for the high and low noise datasets and as expected. The diameter of the circles correlates to the run time. The low noise datasets had very high $R^2$ values. The datasets were split into training and test datasets using an 80/20 split. The $\\beta_0$ and $\\beta_1$ values were then used in the training dataset to determine the $R^2$ value. Although, not very useful for the canonical datset, it does demonstrate that the effectiveness of the ordinary least squares algorithm as demonstrated below. \n",
    "\n",
    "\n",
    "**Real World Data Analysis**  \n",
    "\n",
    "For real world data analysis, to determine a relationship between an independent variable and a dependent variable, it is necessary to first determine if a linear relationship exists in the data. This can be accomplished using a scatter plot to initially visualize the data. If a dataset does not lend itself to a linear relationship then the ordinary least squares (OLS) analysis will not be helpful. Additionally, $\\beta_0$ and $\\beta_1$ variables are gathered from running the algorithm, it is necessary to use a method such as $R^2$ to determine the degree of the relationship, which is made possible by splitting the dataq into train and test datasets. Therefore, the analysis we conducted demonstrates that by identifying the mean of all $X$ and the mean of all $Y$ and then taking each individual $x$ and $y$ value and subtracting that from the mean is a sound way to identify a predictive relationship.\n",
    "\n",
    "In Figure 3, the COVID daily infection rate data for India tracks closely to a linear relationship, which makes it a prime dataset for analysis using the OLS algorithm. The $R^2$ value of 99% affirms this statement. In practical terms, the COVID dataset shows that the infection rate in India since the post-lockdown period follows a linear relationship, which although not ideal is an improvement over an exponential growth pattern. Alternatively, Figure 4, visualizes the COVID-19 data for South Dakota, USA. It is one of the regions globally that has been hardest hit by the virus. The data for the last 60 days does not show a linear relationship, but rather something closer to exponential growth. Therefore, the $R^2$ value for the dataset is 96%, which is still indicative of a strong relationship and predictive accuracy, but not at the same rate as the India dataset. The results for the two datasets show a more worrisome exponential growth rate for South Dakota.\n",
    "\n",
    "Overall, the OLS algorithm provides a very useful tool to effectively and quickly identify a relationship between a dependent and an independent variable as evidenced by the $R^2$ value and the prediction accuracy on the test datasets. It is an effective preliminary tool for every Data Scientist and can provide sound analysis and conclusions.\n"
   ]
  },
  {
   "cell_type": "markdown",
   "metadata": {},
   "source": [
    "### Sources"
   ]
  },
  {
   "cell_type": "markdown",
   "metadata": {},
   "source": [
    "[1] Linear Regression, www.stat.yale.edu/Courses/1997-98/101/linreg.htm.  \n",
    "[2] Kenton, Will. “How the Least Squares Method Works.” Investopedia, Investopedia, 16 Sept. 2020, www.investopedia.com/terms/l/least-squares-method.asp#:~:text=The least squares method is a statistical procedure to find,the behavior of dependent variables.  \n",
    "[3] “What Is Linear Regression?” Statistics Solutions, www.statisticssolutions.com/what-is-linear-regression/.  \n",
    "[4] Raheem, Abdul Hafeez Abdul. “Linear Regression from Scratch.” Medium, Towards Data Science, 11 Nov. 2018, towardsdatascience.com/linear-regression-from-scratch-cd0dee067f72.\n",
    "[5] “Linear Regression from Scratch in Python.” Mubaris NK, mubaris.com/posts/linear-regression/.  \n",
    "[6] RMS Error, statweb.stanford.edu/~susan/courses/s60/split/node60.html.\n",
    "[7] Frost, Jim, et al. “How To Interpret R-Squared in Regression Analysis.” Statistics By Jim, 16 July 2020, statisticsbyjim.com/regression/interpret-r-squared-regression/.  \n",
    "[8] “What Are Mean Squared Error and Root Mean Squared Error?” Technical Information Library, 30 Nov. -1, www.vernier.com/til/1014.  \n",
    "[9] CSSEGISandData. “CSSEGISandData/COVID-19.” GitHub, github.com/CSSEGISandData/COVID-19.  \n",
    "[10] Dieleman, J, and T Templin. “Estimating National Poverty Rates and Their Effect on Mortality: 129 Countries, 1990–2013.” The Lancet Global Health, vol. 3, Mar. 2015, p. S10, 10.1016/s2214-109x(15)70129-4.  \n",
    "[11] Schneider, Astrid, et al. “Linear Regression Analysis: Part 14 of a Series on Evaluation of Scientific Publications.” Deutsches Arzteblatt International, Deutscher Arzte Verlag, Nov. 2010, www.ncbi.nlm.nih.gov/pmc/articles/PMC2992018/.  \n",
    "[12] Klementiev, Alex, et al. \"Voter Turnout in Pierce County, WA: Analysis of Electoral and Population Data.\" Tacoma-Pierce County Health Department. https://www.tpchd.org/home/showdocument?id=4337  \n",
    "[13] Hansen, Eric R., et al. \"Education Attainment and Social Norms of Voting.\" America Political Science Assocation. https://static1.squarespace.com/static/5b953c5f9d5abb8c51d6d8c6/t/5b957f1203ce64eefd1fba92/1536524051067/Hansen_Tyner_Norms_Voting.pdf  \n",
    "[14] Seethalakshmi, R., \"Analysis of stock market predictor variables using Linear Regression.\" School of Humanities and Sciences, SASTRA Deemed to be University, India.  \n"
   ]
  }
 ],
 "metadata": {
  "kernelspec": {
   "display_name": "Python 3",
   "language": "python",
   "name": "python3"
  },
  "language_info": {
   "codemirror_mode": {
    "name": "ipython",
    "version": 3
   },
   "file_extension": ".py",
   "mimetype": "text/x-python",
   "name": "python",
   "nbconvert_exporter": "python",
   "pygments_lexer": "ipython3",
   "version": "3.8.3"
  }
 },
 "nbformat": 4,
 "nbformat_minor": 4
}
